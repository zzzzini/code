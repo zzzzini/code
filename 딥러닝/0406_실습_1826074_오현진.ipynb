{
  "nbformat": 4,
  "nbformat_minor": 0,
  "metadata": {
    "colab": {
      "provenance": []
    },
    "kernelspec": {
      "name": "python3",
      "display_name": "Python 3"
    },
    "language_info": {
      "name": "python"
    }
  },
  "cells": [
    {
      "cell_type": "markdown",
      "source": [
        "#**5장. 합성곱 신경망 I**"
      ],
      "metadata": {
        "id": "swF0xxZL1OPZ"
      }
    },
    {
      "cell_type": "markdown",
      "source": [
        "###합성곱 신경망 맛보기"
      ],
      "metadata": {
        "id": "DTj3rxsj1jas"
      }
    },
    {
      "cell_type": "markdown",
      "source": [
        "#####**라이브러리 호출**"
      ],
      "metadata": {
        "id": "FGlX4J_k1lyw"
      }
    },
    {
      "cell_type": "code",
      "source": [
        "import numpy as np\n",
        "import matplotlib.pyplot as plt\n",
        "\n",
        "import torch\n",
        "import torch.nn as nn\n",
        "from torch.autograd import Variable\n",
        "import torch.nn.functional as F\n",
        "\n",
        "import torchvision\n",
        "import torchvision.transforms as transforms\n",
        "from torch.utils.data import Dataset, DataLoader"
      ],
      "metadata": {
        "id": "IbbPO-NS1dfY"
      },
      "execution_count": null,
      "outputs": []
    },
    {
      "cell_type": "markdown",
      "source": [
        "#####**CPU 혹은 GPU 장치 확인**"
      ],
      "metadata": {
        "id": "IApr4Rtg2Urp"
      }
    },
    {
      "cell_type": "code",
      "source": [
        "device = torch.device(\"cuda:0\" if torch.cuda.is_available() else \"cpu\") # GPU를 사용할 수 없기 때문에 cpu로 사용하도록 설정하였습니다."
      ],
      "metadata": {
        "id": "j8iQZzXf1ivH"
      },
      "execution_count": null,
      "outputs": []
    },
    {
      "cell_type": "markdown",
      "source": [
        "#####**fashion_mnist 데이터셋 내려받기**"
      ],
      "metadata": {
        "id": "ozGguxsb2iB1"
      }
    },
    {
      "cell_type": "code",
      "source": [
        "train_dataset = torchvision.datasets.FashionMNIST(\"../chap05/data\", download=True,\n",
        "                                                  transform=transforms.Compose([transforms.ToTensor()]))\n",
        "test_dataset = torchvision.datasets.FashionMNIST(\"../chap05/data\", download=True,\n",
        "                                                 train=False, transform=transforms.Compose([transforms.ToTensor()]))"
      ],
      "metadata": {
        "colab": {
          "base_uri": "https://localhost:8080/"
        },
        "id": "JGeU8BZD2goF",
        "outputId": "ec96c9b0-7d35-4812-df57-49785fbff374"
      },
      "execution_count": null,
      "outputs": [
        {
          "output_type": "stream",
          "name": "stdout",
          "text": [
            "Downloading http://fashion-mnist.s3-website.eu-central-1.amazonaws.com/train-images-idx3-ubyte.gz\n",
            "Downloading http://fashion-mnist.s3-website.eu-central-1.amazonaws.com/train-images-idx3-ubyte.gz to ../chap05/data/FashionMNIST/raw/train-images-idx3-ubyte.gz\n"
          ]
        },
        {
          "output_type": "stream",
          "name": "stderr",
          "text": [
            "100%|██████████| 26421880/26421880 [00:01<00:00, 17224542.44it/s]\n"
          ]
        },
        {
          "output_type": "stream",
          "name": "stdout",
          "text": [
            "Extracting ../chap05/data/FashionMNIST/raw/train-images-idx3-ubyte.gz to ../chap05/data/FashionMNIST/raw\n",
            "\n",
            "Downloading http://fashion-mnist.s3-website.eu-central-1.amazonaws.com/train-labels-idx1-ubyte.gz\n",
            "Downloading http://fashion-mnist.s3-website.eu-central-1.amazonaws.com/train-labels-idx1-ubyte.gz to ../chap05/data/FashionMNIST/raw/train-labels-idx1-ubyte.gz\n"
          ]
        },
        {
          "output_type": "stream",
          "name": "stderr",
          "text": [
            "100%|██████████| 29515/29515 [00:00<00:00, 308473.10it/s]\n"
          ]
        },
        {
          "output_type": "stream",
          "name": "stdout",
          "text": [
            "Extracting ../chap05/data/FashionMNIST/raw/train-labels-idx1-ubyte.gz to ../chap05/data/FashionMNIST/raw\n",
            "\n",
            "Downloading http://fashion-mnist.s3-website.eu-central-1.amazonaws.com/t10k-images-idx3-ubyte.gz\n",
            "Downloading http://fashion-mnist.s3-website.eu-central-1.amazonaws.com/t10k-images-idx3-ubyte.gz to ../chap05/data/FashionMNIST/raw/t10k-images-idx3-ubyte.gz\n"
          ]
        },
        {
          "output_type": "stream",
          "name": "stderr",
          "text": [
            "100%|██████████| 4422102/4422102 [00:00<00:00, 5447990.51it/s]\n"
          ]
        },
        {
          "output_type": "stream",
          "name": "stdout",
          "text": [
            "Extracting ../chap05/data/FashionMNIST/raw/t10k-images-idx3-ubyte.gz to ../chap05/data/FashionMNIST/raw\n",
            "\n",
            "Downloading http://fashion-mnist.s3-website.eu-central-1.amazonaws.com/t10k-labels-idx1-ubyte.gz\n",
            "Downloading http://fashion-mnist.s3-website.eu-central-1.amazonaws.com/t10k-labels-idx1-ubyte.gz to ../chap05/data/FashionMNIST/raw/t10k-labels-idx1-ubyte.gz\n"
          ]
        },
        {
          "output_type": "stream",
          "name": "stderr",
          "text": [
            "100%|██████████| 5148/5148 [00:00<00:00, 4630554.79it/s]"
          ]
        },
        {
          "output_type": "stream",
          "name": "stdout",
          "text": [
            "Extracting ../chap05/data/FashionMNIST/raw/t10k-labels-idx1-ubyte.gz to ../chap05/data/FashionMNIST/raw\n",
            "\n"
          ]
        },
        {
          "output_type": "stream",
          "name": "stderr",
          "text": [
            "\n"
          ]
        }
      ]
    },
    {
      "cell_type": "markdown",
      "source": [
        "#####**fashion_mnist 데이터를 데이터로더에 전달**"
      ],
      "metadata": {
        "id": "CTu2ldHe3RUr"
      }
    },
    {
      "cell_type": "code",
      "source": [
        "train_loader = torch.utils.data.DataLoader(train_dataset,\n",
        "                                           batch_size=100) # 데이터를 100개 단위로 불러오도록 지정\n",
        "test_loader = torch.utils.data.DataLoader(test_dataset,\n",
        "                                          batch_size=100)"
      ],
      "metadata": {
        "id": "fqyniW2w3Gio"
      },
      "execution_count": null,
      "outputs": []
    },
    {
      "cell_type": "markdown",
      "source": [
        "#####**분류에 사용될 클래스 정의**"
      ],
      "metadata": {
        "id": "Cql8vzMV3hiK"
      }
    },
    {
      "cell_type": "code",
      "source": [
        "labels_map = {0 : 'T-Shirt', 1 : 'Trouser', 2 : 'Pullover', 3 : 'Dress', 4 : 'Coat',\n",
        "              5 : 'Sandal', 6 : 'Shirt', 7 : 'Sneaker', 8 : 'Bag', 9 : 'Ankle Boot'}\n",
        "  \n",
        "fig = plt.figure(figsize=(8,8));\n",
        "columns = 4;\n",
        "rows = 5;\n",
        "for i in range(1, columns*rows + 1): # 20회 반복\n",
        "  img_xy = np.random.randint(len(train_dataset)); # 0부터 train_dataset 길이 사이에서 랜덤한 수를 생성\n",
        "  img = train_dataset[img_xy][0][0,:,:] # train_dataset의 [img_xy][0][0,:,:]에 해당하는 요소 값을 가져오기\n",
        "  fig.add_subplot(rows, columns, i)\n",
        "  plt.title(labels_map[train_dataset[img_xy][1]])\n",
        "  plt.axis('off')\n",
        "  plt.imshow(img, cmap='gray')\n",
        "plt.show() # 따라서 랜덤 이미지 20개를 출력해준다"
      ],
      "metadata": {
        "colab": {
          "base_uri": "https://localhost:8080/",
          "height": 675
        },
        "id": "fH5cTVPA3eTK",
        "outputId": "5be3d30c-e919-40eb-924f-0c507a1282d8"
      },
      "execution_count": null,
      "outputs": [
        {
          "output_type": "display_data",
          "data": {
            "text/plain": [
              "<Figure size 800x800 with 20 Axes>"
            ],
            "image/png": "[encoded data removed]"
          },
          "metadata": {}
        }
      ]
    },
    {
      "cell_type": "markdown",
      "source": [
        "#####**심층 신경망 모델 생성**"
      ],
      "metadata": {
        "id": "pPWUMesK4gwT"
      }
    },
    {
      "cell_type": "code",
      "source": [
        "class FashionDNN(nn.Module):\n",
        "  def __init__(self):\n",
        "    super(FashionDNN, self).__init__()\n",
        "    self.fc1 = nn.Linear(in_features=784, out_features=256) # 입력 784개, 출력 256개의 층 생성\n",
        "    self.drop = nn.Dropout(0.25) # 0.25의 확률로 0이되고, 나머지 0.75는 (1/0.25)만큼 커지게 하기\n",
        "    self.fc2 = nn.Linear(in_features=256, out_features=128) # 입력 256개, 출력 128개의 층 생성\n",
        "    self.fc3 = nn.Linear(in_features=128, out_features=10) # 입력 128개, 출력 10개의 층 생성\n",
        "\n",
        "  def forward(self, input_data): # 학습 데이터를 입력받아 순전파 학습을 진행시킨다. 이름 변경은 불가\n",
        "    out = input_data.view(-1, 784) # view를 이용해 입력 데이터를 2차원 (n, 784)크기의 텐서로 변경. (-1, 784)를 지정했으므로 n은 파이토치가 결정\n",
        "    out = F.relu(self.fc1(out)) # 활성화함수로 relu를 이용\n",
        "    out = self.drop(out)\n",
        "    out = F.relu(self.fc2(out))\n",
        "    out = self.fc3(out)\n",
        "    return out"
      ],
      "metadata": {
        "id": "hIgMBQu44QZ2"
      },
      "execution_count": null,
      "outputs": []
    },
    {
      "cell_type": "markdown",
      "source": [
        "#####**심층 신경망에서 필요한 파라미터 정의**"
      ],
      "metadata": {
        "id": "XUR25OJb5kOR"
      }
    },
    {
      "cell_type": "code",
      "source": [
        "learning_rate = 0.001;\n",
        "model = FashionDNN();\n",
        "model.to(device)\n",
        "\n",
        "criterion = nn.CrossEntropyLoss();\n",
        "optimizer = torch.optim.Adam(model.parameters(), lr=learning_rate); # 학습률을 0.001로 하고, 경사 하강법으로 Adam 사용\n",
        "print(model)"
      ],
      "metadata": {
        "colab": {
          "base_uri": "https://localhost:8080/"
        },
        "id": "lh3kvzvL5TGr",
        "outputId": "379aa02a-0341-4ba6-8414-bf4bbd6a6049"
      },
      "execution_count": null,
      "outputs": [
        {
          "output_type": "stream",
          "name": "stdout",
          "text": [
            "FashionDNN(\n",
            "  (fc1): Linear(in_features=784, out_features=256, bias=True)\n",
            "  (drop): Dropout(p=0.25, inplace=False)\n",
            "  (fc2): Linear(in_features=256, out_features=128, bias=True)\n",
            "  (fc3): Linear(in_features=128, out_features=10, bias=True)\n",
            ")\n"
          ]
        }
      ]
    },
    {
      "cell_type": "markdown",
      "source": [
        "#####**심층 신경망을 이용한 모델 학습**"
      ],
      "metadata": {
        "id": "htFU0Tem6XvL"
      }
    },
    {
      "cell_type": "code",
      "source": [
        "num_epochs = 5\n",
        "count = 0\n",
        "\n",
        "loss_list = []\n",
        "iteration_list = []\n",
        "accuracy_list = []\n",
        "\n",
        "predictions_list = []\n",
        "labels_list = []\n",
        "\n",
        "for epoch in range(num_epochs): # epoch 만큼 반복\n",
        "  for images, labels in train_loader:\n",
        "    images, labels = images.to(device), labels.to(device) # 모델과 처리할 데이터는 동일 장치에 있어야 함\n",
        "    train = Variable(images.view(100, 1, 28, 28)) # Autograd가 Variable을 이용해 자동 미분을 수행\n",
        "    labels = Variable(labels)\n",
        "\n",
        "    outputs = model(train)\n",
        "    loss = criterion(outputs, labels)\n",
        "    optimizer.zero_grad()\n",
        "    loss.backward()\n",
        "    optimizer.step()\n",
        "    count += 1\n",
        "\n",
        "    if not (count % 50): \n",
        "      total = 0\n",
        "      correct = 0\n",
        "      for images, labels in test_loader:\n",
        "        images, labels = images.to(device), labels.to(device)\n",
        "        labels_list.append(labels)\n",
        "        test = Variable(images.view(100, 1, 28, 28)) # view를 사용해 1차원 텐서로 변환\n",
        "        \n",
        "        outputs = model(test)\n",
        "        predictions = torch.max(outputs, 1)[1].to(device) # 가장 높은 값을 가진 예측 가져오기\n",
        "        predictions_list.append(predictions)\n",
        "        correct += (predictions == labels).sum() # 정확도 계산\n",
        "        total += len(labels)\n",
        "    \n",
        "      accuracy = correct * 100 / total # 50번 반복 이후 정확도 계산\n",
        "      loss_list.append(loss.data) # 손실, 반복횟수, 정확도 저장\n",
        "      iteration_list.append(count)\n",
        "      accuracy_list.append(accuracy)\n",
        "\n",
        "    if not (count % 500):\n",
        "      print(\"Iteration: {}, Loss: {}, Accuracy: {}%\".format(count, loss.data, accuracy)) # 500회 반복마다 수치 출력"
      ],
      "metadata": {
        "colab": {
          "base_uri": "https://localhost:8080/"
        },
        "id": "hC-8LP5a6T6L",
        "outputId": "5c73a87f-3dbf-4a1a-bfda-e75f35ae0fde"
      },
      "execution_count": null,
      "outputs": [
        {
          "output_type": "stream",
          "name": "stdout",
          "text": [
            "Iteration: 500, Loss: 0.6206870079040527, Accuracy: 83.6500015258789%\n",
            "Iteration: 1000, Loss: 0.47731223702430725, Accuracy: 84.61000061035156%\n",
            "Iteration: 1500, Loss: 0.39207541942596436, Accuracy: 84.63999938964844%\n",
            "Iteration: 2000, Loss: 0.38639700412750244, Accuracy: 85.58999633789062%\n",
            "Iteration: 2500, Loss: 0.3013065755367279, Accuracy: 86.11000061035156%\n",
            "Iteration: 3000, Loss: 0.33872824907302856, Accuracy: 86.56999969482422%\n"
          ]
        }
      ]
    },
    {
      "cell_type": "markdown",
      "source": [
        "#####**합성곱 네트워크 생성**"
      ],
      "metadata": {
        "id": "P0EpB-eV8xdO"
      }
    },
    {
      "cell_type": "code",
      "source": [
        "class FashionCNN(nn.Module):\n",
        "  def __init__(self):\n",
        "    super(FashionCNN, self).__init__()\n",
        "    self.layer1 = nn.Sequential( # 층을 차례로 쌓기 위해 Sequential을 사용\n",
        "        nn.Conv2d(in_channels=1, out_channels=32, kernel_size=3, padding=1), # 입력 채녈 1개, 출력 채널 32개, 커널은 3x3 사각형, 패딩을 1로 준 합성곱 층\n",
        "        nn.BatchNorm2d(32), # 합성곱 층을 지나면 배치 정규화, ReLU함수, 최대 풀링을 순서대로 진행\n",
        "        nn.ReLU(),\n",
        "        nn.MaxPool2d(kernel_size=2, stride=2)\n",
        "    )\n",
        "    self.layer2 = nn.Sequential( # 수치를 변경시킨 합성곱 층을 하나 더 생성\n",
        "        nn.Conv2d(in_channels=32, out_channels=64, kernel_size=3),\n",
        "        nn.BatchNorm2d(64),\n",
        "        nn.ReLU(),\n",
        "        nn.MaxPool2d(2)\n",
        "    )\n",
        "\n",
        "    self.fc1 = nn.Linear(in_features=64*6*6, out_features=600) # 입력 64*6*6개, 출력 600개의 층 생성\n",
        "    self.drop = nn.Dropout2d(0.25) # 0.25의 확률로 dropout 수행\n",
        "    self.fc2 = nn.Linear(in_features=600, out_features=120) # 입력 600개, 출력 120개의 층 생성\n",
        "    self.fc3 = nn.Linear(in_features=120, out_features=10) # 입력 120개, 출력 10개의 층 생성\n",
        "\n",
        "  def forward(self, x): # 순전파 학습 진행\n",
        "    out = self.layer1(x)\n",
        "    out = self.layer2(out)\n",
        "    out = out.view(out.size(0), -1) # 행의 개수는 알지만 열의 개수를 알지 못해 -1로 지정, view를 통해 1차원 텐서로 변경\n",
        "    out = self.fc1(out)\n",
        "    out = self.drop(out)\n",
        "    out = self.fc2(out)\n",
        "    out = self.fc3(out)\n",
        "    return out"
      ],
      "metadata": {
        "id": "Vxy-Lw-t7Hbz"
      },
      "execution_count": null,
      "outputs": []
    },
    {
      "cell_type": "markdown",
      "source": [
        "#####**합성곱 네트워크를 위한 파라미터 정의**"
      ],
      "metadata": {
        "id": "m4Ybt57Tj5n6"
      }
    },
    {
      "cell_type": "code",
      "source": [
        "learning_rate = 0.001;\n",
        "model = FashionCNN();\n",
        "model.to(device)\n",
        "\n",
        "criterion = nn.CrossEntropyLoss();\n",
        "optimizer = torch.optim.Adam(model.parameters(), lr=learning_rate); # 학습률을 0.001로 하고, 경사 하강법으로 Adam 사용\n",
        "print(model)"
      ],
      "metadata": {
        "colab": {
          "base_uri": "https://localhost:8080/"
        },
        "id": "wJivjOWSi-vO",
        "outputId": "ed1cfbc1-a975-46b2-a56b-a7b55ee7b254"
      },
      "execution_count": null,
      "outputs": [
        {
          "output_type": "stream",
          "name": "stdout",
          "text": [
            "FashionCNN(\n",
            "  (layer1): Sequential(\n",
            "    (0): Conv2d(1, 32, kernel_size=(3, 3), stride=(1, 1), padding=(1, 1))\n",
            "    (1): BatchNorm2d(32, eps=1e-05, momentum=0.1, affine=True, track_running_stats=True)\n",
            "    (2): ReLU()\n",
            "    (3): MaxPool2d(kernel_size=2, stride=2, padding=0, dilation=1, ceil_mode=False)\n",
            "  )\n",
            "  (layer2): Sequential(\n",
            "    (0): Conv2d(32, 64, kernel_size=(3, 3), stride=(1, 1))\n",
            "    (1): BatchNorm2d(64, eps=1e-05, momentum=0.1, affine=True, track_running_stats=True)\n",
            "    (2): ReLU()\n",
            "    (3): MaxPool2d(kernel_size=2, stride=2, padding=0, dilation=1, ceil_mode=False)\n",
            "  )\n",
            "  (fc1): Linear(in_features=2304, out_features=600, bias=True)\n",
            "  (drop): Dropout2d(p=0.25, inplace=False)\n",
            "  (fc2): Linear(in_features=600, out_features=120, bias=True)\n",
            "  (fc3): Linear(in_features=120, out_features=10, bias=True)\n",
            ")\n"
          ]
        }
      ]
    },
    {
      "cell_type": "markdown",
      "source": [
        "#####**모델 학습 및 성능 평가**"
      ],
      "metadata": {
        "id": "-ljdvksKkKz6"
      }
    },
    {
      "cell_type": "code",
      "source": [
        "num_epochs = 5 # 동일 코드여서 주석 생략하였습니다. 다만 시간 소요가 전보다 훨씬 많았습니다. 정확도도 물론 더 높았습니다.\n",
        "count = 0\n",
        "loss_list = []\n",
        "iteration_list = []\n",
        "accuracy_list = []\n",
        "\n",
        "predictions_list = []\n",
        "labels_list = []\n",
        "\n",
        "for epoch in range(num_epochs):\n",
        "  for images, labels in train_loader:\n",
        "    images, labels = images.to(device), labels.to(device)\n",
        "\n",
        "    train = Variable(images.view(100, 1, 28, 28))\n",
        "    labels = Variable(labels)\n",
        "\n",
        "    outputs = model(train)\n",
        "    loss = criterion(outputs, labels)\n",
        "    optimizer.zero_grad()\n",
        "    loss.backward()\n",
        "    optimizer.step()\n",
        "    count += 1\n",
        "\n",
        "    if not (count % 50):\n",
        "      total = 0\n",
        "      correct = 0\n",
        "\n",
        "      for images, labels in test_loader:\n",
        "        images, labels = images.to(device), labels.to(device)\n",
        "        labels_list.append(labels)\n",
        "        test = Variable(images.view(100, 1, 28, 28))\n",
        "        outputs = model(test)\n",
        "        predictions = torch.max(outputs, 1)[1].to(device)\n",
        "        predictions_list.append(predictions)\n",
        "        correct += (predictions == labels).sum()\n",
        "        total += len(labels)\n",
        "\n",
        "      accuracy = correct * 100 / total\n",
        "      loss_list.append(loss.data)\n",
        "      iteration_list.append(count)\n",
        "      accuracy_list.append(accuracy)\n",
        "\n",
        "    if not (count % 500):\n",
        "      print(\"Iteration: {}, Loss: {}, Accuracy: {}%\".format(count, loss.data, accuracy))"
      ],
      "metadata": {
        "colab": {
          "base_uri": "https://localhost:8080/"
        },
        "id": "EaObQoVZkICI",
        "outputId": "4985ea6b-1901-4141-99f7-4129b8cfd4c0"
      },
      "execution_count": null,
      "outputs": [
        {
          "output_type": "stream",
          "name": "stderr",
          "text": [
            "/usr/local/lib/python3.9/dist-packages/torch/nn/functional.py:1331: UserWarning: dropout2d: Received a 2-D input to dropout2d, which is deprecated and will result in an error in a future release. To retain the behavior and silence this warning, please use dropout instead. Note that dropout2d exists to provide channel-wise dropout on inputs with 2 spatial dimensions, a channel dimension, and an optional batch dimension (i.e. 3D or 4D inputs).\n",
            "  warnings.warn(warn_msg)\n"
          ]
        },
        {
          "output_type": "stream",
          "name": "stdout",
          "text": [
            "Iteration: 500, Loss: 0.45980918407440186, Accuracy: 87.80000305175781%\n",
            "Iteration: 1000, Loss: 0.28020596504211426, Accuracy: 88.41999816894531%\n",
            "Iteration: 1500, Loss: 0.28997913002967834, Accuracy: 87.16999816894531%\n",
            "Iteration: 2000, Loss: 0.18763451278209686, Accuracy: 89.2300033569336%\n",
            "Iteration: 2500, Loss: 0.1416349560022354, Accuracy: 89.38999938964844%\n",
            "Iteration: 3000, Loss: 0.18458648025989532, Accuracy: 90.33000183105469%\n"
          ]
        }
      ]
    },
    {
      "cell_type": "markdown",
      "source": [
        "###전이 학습 >> 이쪽 코드는 데이터셋 문제로 실습은 하지 못했습니다"
      ],
      "metadata": {
        "id": "JtMsvUyTlbeM"
      }
    },
    {
      "cell_type": "markdown",
      "source": [
        "#####**라이브러리 호출**"
      ],
      "metadata": {
        "id": "NG1JGDvIlnxJ"
      }
    },
    {
      "cell_type": "code",
      "source": [
        "pip install opencv-python"
      ],
      "metadata": {
        "colab": {
          "base_uri": "https://localhost:8080/"
        },
        "id": "merUBKVdrRje",
        "outputId": "e04a02bf-f087-4b7d-a109-183104e7d07d"
      },
      "execution_count": null,
      "outputs": [
        {
          "output_type": "stream",
          "name": "stdout",
          "text": [
            "Looking in indexes: https://pypi.org/simple, https://us-python.pkg.dev/colab-wheels/public/simple/\n",
            "Requirement already satisfied: opencv-python in /usr/local/lib/python3.9/dist-packages (4.7.0.72)\n",
            "Requirement already satisfied: numpy>=1.19.3 in /usr/local/lib/python3.9/dist-packages (from opencv-python) (1.22.4)\n"
          ]
        }
      ]
    },
    {
      "cell_type": "code",
      "source": [
        "import os\n",
        "import time\n",
        "import copy\n",
        "import glob\n",
        "import cv2\n",
        "import shutil\n",
        "\n",
        "import torch\n",
        "import torchvision\n",
        "import torchvision.transforms as transforms\n",
        "import torchvision.models as models\n",
        "import torch.nn as nn\n",
        "from torch.utils.data import DataLoader\n",
        "\n",
        "import matplotlib.pyplot as plt"
      ],
      "metadata": {
        "id": "YFgArTzWlUnT"
      },
      "execution_count": null,
      "outputs": []
    },
    {
      "cell_type": "markdown",
      "source": [
        "#####**이미지 데이터 전처리 방법 정의**"
      ],
      "metadata": {
        "id": "bGk1g4Ptl_Fh"
      }
    },
    {
      "cell_type": "code",
      "source": [
        "data_path = '../chap05/data/catanddog/train'\n",
        "\n",
        "transform = transforms.Compose( # 이미지를 입력 데이터로 사용할 수 있도록 변환\n",
        "                [\n",
        "                    transforms.Resize([256, 256]), # 이미지를 256 x 256 사이즈로 조정\n",
        "                    transforms.RandomResizedCrop(224), # 이미지를 랜덤으로 224 x 224 사이즈로 자른 뒤 다시 256 x 256 사이즈로 조정\n",
        "                    transforms.RandomHorizontalFlip(), # 이미지에 랜덤으로 수평 뒤집기 수행\n",
        "                    transforms.ToTensor() # 이미지를 텐서로 변환\n",
        "])\n",
        "train_dataset = torchvision.datasets.ImageFolder( # 해당 경로의 이미지에 위에서 정의한 전처리 수행\n",
        "                data_path,\n",
        "                transform=transform\n",
        ")\n",
        "train_loader = torch.utils.data.DataLoader( # 한번에 32만큼의 데이터를 8개 프로세스를 사용하여 무작위로 데이터 로더에 할당 \n",
        "               train_dataset,\n",
        "               batch_size=32,\n",
        "               num_workers=8,\n",
        "               shuffle=True\n",
        ")\n",
        "\n",
        "print(len(train_dataset))"
      ],
      "metadata": {
        "colab": {
          "base_uri": "https://localhost:8080/",
          "height": 390
        },
        "id": "eZ3j_UHgl92S",
        "outputId": "3cc65433-2695-4916-c70b-f9325edb6361"
      },
      "execution_count": null,
      "outputs": [
        {
          "output_type": "error",
          "ename": "FileNotFoundError",
          "evalue": "ignored",
          "traceback": [
            "\u001b[0;31m---------------------------------------------------------------------------\u001b[0m",
            "\u001b[0;31mFileNotFoundError\u001b[0m                         Traceback (most recent call last)",
            "\u001b[0;32m<ipython-input-13-5b6092a72541>\u001b[0m in \u001b[0;36m<cell line: 10>\u001b[0;34m()\u001b[0m\n\u001b[1;32m      8\u001b[0m                     \u001b[0mtransforms\u001b[0m\u001b[0;34m.\u001b[0m\u001b[0mToTensor\u001b[0m\u001b[0;34m(\u001b[0m\u001b[0;34m)\u001b[0m\u001b[0;34m\u001b[0m\u001b[0;34m\u001b[0m\u001b[0m\n\u001b[1;32m      9\u001b[0m ])\n\u001b[0;32m---> 10\u001b[0;31m train_dataset = torchvision.datasets.ImageFolder(\n\u001b[0m\u001b[1;32m     11\u001b[0m                 \u001b[0mdata_path\u001b[0m\u001b[0;34m,\u001b[0m\u001b[0;34m\u001b[0m\u001b[0;34m\u001b[0m\u001b[0m\n\u001b[1;32m     12\u001b[0m                 \u001b[0mtransform\u001b[0m\u001b[0;34m=\u001b[0m\u001b[0mtransform\u001b[0m\u001b[0;34m\u001b[0m\u001b[0;34m\u001b[0m\u001b[0m\n",
            "\u001b[0;32m/usr/local/lib/python3.9/dist-packages/torchvision/datasets/folder.py\u001b[0m in \u001b[0;36m__init__\u001b[0;34m(self, root, transform, target_transform, loader, is_valid_file)\u001b[0m\n\u001b[1;32m    307\u001b[0m         \u001b[0mis_valid_file\u001b[0m\u001b[0;34m:\u001b[0m \u001b[0mOptional\u001b[0m\u001b[0;34m[\u001b[0m\u001b[0mCallable\u001b[0m\u001b[0;34m[\u001b[0m\u001b[0;34m[\u001b[0m\u001b[0mstr\u001b[0m\u001b[0;34m]\u001b[0m\u001b[0;34m,\u001b[0m \u001b[0mbool\u001b[0m\u001b[0;34m]\u001b[0m\u001b[0;34m]\u001b[0m \u001b[0;34m=\u001b[0m \u001b[0;32mNone\u001b[0m\u001b[0;34m,\u001b[0m\u001b[0;34m\u001b[0m\u001b[0;34m\u001b[0m\u001b[0m\n\u001b[1;32m    308\u001b[0m     ):\n\u001b[0;32m--> 309\u001b[0;31m         super().__init__(\n\u001b[0m\u001b[1;32m    310\u001b[0m             \u001b[0mroot\u001b[0m\u001b[0;34m,\u001b[0m\u001b[0;34m\u001b[0m\u001b[0;34m\u001b[0m\u001b[0m\n\u001b[1;32m    311\u001b[0m             \u001b[0mloader\u001b[0m\u001b[0;34m,\u001b[0m\u001b[0;34m\u001b[0m\u001b[0;34m\u001b[0m\u001b[0m\n",
            "\u001b[0;32m/usr/local/lib/python3.9/dist-packages/torchvision/datasets/folder.py\u001b[0m in \u001b[0;36m__init__\u001b[0;34m(self, root, loader, extensions, transform, target_transform, is_valid_file)\u001b[0m\n\u001b[1;32m    142\u001b[0m     ) -> None:\n\u001b[1;32m    143\u001b[0m         \u001b[0msuper\u001b[0m\u001b[0;34m(\u001b[0m\u001b[0;34m)\u001b[0m\u001b[0;34m.\u001b[0m\u001b[0m__init__\u001b[0m\u001b[0;34m(\u001b[0m\u001b[0mroot\u001b[0m\u001b[0;34m,\u001b[0m \u001b[0mtransform\u001b[0m\u001b[0;34m=\u001b[0m\u001b[0mtransform\u001b[0m\u001b[0;34m,\u001b[0m \u001b[0mtarget_transform\u001b[0m\u001b[0;34m=\u001b[0m\u001b[0mtarget_transform\u001b[0m\u001b[0;34m)\u001b[0m\u001b[0;34m\u001b[0m\u001b[0;34m\u001b[0m\u001b[0m\n\u001b[0;32m--> 144\u001b[0;31m         \u001b[0mclasses\u001b[0m\u001b[0;34m,\u001b[0m \u001b[0mclass_to_idx\u001b[0m \u001b[0;34m=\u001b[0m \u001b[0mself\u001b[0m\u001b[0;34m.\u001b[0m\u001b[0mfind_classes\u001b[0m\u001b[0;34m(\u001b[0m\u001b[0mself\u001b[0m\u001b[0;34m.\u001b[0m\u001b[0mroot\u001b[0m\u001b[0;34m)\u001b[0m\u001b[0;34m\u001b[0m\u001b[0;34m\u001b[0m\u001b[0m\n\u001b[0m\u001b[1;32m    145\u001b[0m         \u001b[0msamples\u001b[0m \u001b[0;34m=\u001b[0m \u001b[0mself\u001b[0m\u001b[0;34m.\u001b[0m\u001b[0mmake_dataset\u001b[0m\u001b[0;34m(\u001b[0m\u001b[0mself\u001b[0m\u001b[0;34m.\u001b[0m\u001b[0mroot\u001b[0m\u001b[0;34m,\u001b[0m \u001b[0mclass_to_idx\u001b[0m\u001b[0;34m,\u001b[0m \u001b[0mextensions\u001b[0m\u001b[0;34m,\u001b[0m \u001b[0mis_valid_file\u001b[0m\u001b[0;34m)\u001b[0m\u001b[0;34m\u001b[0m\u001b[0;34m\u001b[0m\u001b[0m\n\u001b[1;32m    146\u001b[0m \u001b[0;34m\u001b[0m\u001b[0m\n",
            "\u001b[0;32m/usr/local/lib/python3.9/dist-packages/torchvision/datasets/folder.py\u001b[0m in \u001b[0;36mfind_classes\u001b[0;34m(self, directory)\u001b[0m\n\u001b[1;32m    216\u001b[0m             \u001b[0;34m(\u001b[0m\u001b[0mTuple\u001b[0m\u001b[0;34m[\u001b[0m\u001b[0mList\u001b[0m\u001b[0;34m[\u001b[0m\u001b[0mstr\u001b[0m\u001b[0;34m]\u001b[0m\u001b[0;34m,\u001b[0m \u001b[0mDict\u001b[0m\u001b[0;34m[\u001b[0m\u001b[0mstr\u001b[0m\u001b[0;34m,\u001b[0m \u001b[0mint\u001b[0m\u001b[0;34m]\u001b[0m\u001b[0;34m]\u001b[0m\u001b[0;34m)\u001b[0m\u001b[0;34m:\u001b[0m \u001b[0mList\u001b[0m \u001b[0mof\u001b[0m \u001b[0mall\u001b[0m \u001b[0mclasses\u001b[0m \u001b[0;32mand\u001b[0m \u001b[0mdictionary\u001b[0m \u001b[0mmapping\u001b[0m \u001b[0meach\u001b[0m \u001b[0;32mclass\u001b[0m \u001b[0mto\u001b[0m \u001b[0man\u001b[0m \u001b[0mindex\u001b[0m\u001b[0;34m.\u001b[0m\u001b[0;34m\u001b[0m\u001b[0;34m\u001b[0m\u001b[0m\n\u001b[1;32m    217\u001b[0m         \"\"\"\n\u001b[0;32m--> 218\u001b[0;31m         \u001b[0;32mreturn\u001b[0m \u001b[0mfind_classes\u001b[0m\u001b[0;34m(\u001b[0m\u001b[0mdirectory\u001b[0m\u001b[0;34m)\u001b[0m\u001b[0;34m\u001b[0m\u001b[0;34m\u001b[0m\u001b[0m\n\u001b[0m\u001b[1;32m    219\u001b[0m \u001b[0;34m\u001b[0m\u001b[0m\n\u001b[1;32m    220\u001b[0m     \u001b[0;32mdef\u001b[0m \u001b[0m__getitem__\u001b[0m\u001b[0;34m(\u001b[0m\u001b[0mself\u001b[0m\u001b[0;34m,\u001b[0m \u001b[0mindex\u001b[0m\u001b[0;34m:\u001b[0m \u001b[0mint\u001b[0m\u001b[0;34m)\u001b[0m \u001b[0;34m->\u001b[0m \u001b[0mTuple\u001b[0m\u001b[0;34m[\u001b[0m\u001b[0mAny\u001b[0m\u001b[0;34m,\u001b[0m \u001b[0mAny\u001b[0m\u001b[0;34m]\u001b[0m\u001b[0;34m:\u001b[0m\u001b[0;34m\u001b[0m\u001b[0;34m\u001b[0m\u001b[0m\n",
            "\u001b[0;32m/usr/local/lib/python3.9/dist-packages/torchvision/datasets/folder.py\u001b[0m in \u001b[0;36mfind_classes\u001b[0;34m(directory)\u001b[0m\n\u001b[1;32m     38\u001b[0m     \u001b[0mSee\u001b[0m \u001b[0;34m:\u001b[0m\u001b[0;32mclass\u001b[0m\u001b[0;34m:\u001b[0m\u001b[0;31m`\u001b[0m\u001b[0mDatasetFolder\u001b[0m\u001b[0;31m`\u001b[0m \u001b[0;32mfor\u001b[0m \u001b[0mdetails\u001b[0m\u001b[0;34m.\u001b[0m\u001b[0;34m\u001b[0m\u001b[0;34m\u001b[0m\u001b[0m\n\u001b[1;32m     39\u001b[0m     \"\"\"\n\u001b[0;32m---> 40\u001b[0;31m     \u001b[0mclasses\u001b[0m \u001b[0;34m=\u001b[0m \u001b[0msorted\u001b[0m\u001b[0;34m(\u001b[0m\u001b[0mentry\u001b[0m\u001b[0;34m.\u001b[0m\u001b[0mname\u001b[0m \u001b[0;32mfor\u001b[0m \u001b[0mentry\u001b[0m \u001b[0;32min\u001b[0m \u001b[0mos\u001b[0m\u001b[0;34m.\u001b[0m\u001b[0mscandir\u001b[0m\u001b[0;34m(\u001b[0m\u001b[0mdirectory\u001b[0m\u001b[0;34m)\u001b[0m \u001b[0;32mif\u001b[0m \u001b[0mentry\u001b[0m\u001b[0;34m.\u001b[0m\u001b[0mis_dir\u001b[0m\u001b[0;34m(\u001b[0m\u001b[0;34m)\u001b[0m\u001b[0;34m)\u001b[0m\u001b[0;34m\u001b[0m\u001b[0;34m\u001b[0m\u001b[0m\n\u001b[0m\u001b[1;32m     41\u001b[0m     \u001b[0;32mif\u001b[0m \u001b[0;32mnot\u001b[0m \u001b[0mclasses\u001b[0m\u001b[0;34m:\u001b[0m\u001b[0;34m\u001b[0m\u001b[0;34m\u001b[0m\u001b[0m\n\u001b[1;32m     42\u001b[0m         \u001b[0;32mraise\u001b[0m \u001b[0mFileNotFoundError\u001b[0m\u001b[0;34m(\u001b[0m\u001b[0;34mf\"Couldn't find any class folder in {directory}.\"\u001b[0m\u001b[0;34m)\u001b[0m\u001b[0;34m\u001b[0m\u001b[0;34m\u001b[0m\u001b[0m\n",
            "\u001b[0;31mFileNotFoundError\u001b[0m: [Errno 2] No such file or directory: '../chap05/data/catanddog/train'"
          ]
        }
      ]
    },
    {
      "cell_type": "markdown",
      "source": [
        "#####**학습에 사용될 이미지 출력**"
      ],
      "metadata": {
        "id": "LYHuecnlnHwN"
      }
    },
    {
      "cell_type": "code",
      "source": [
        "samples, labels = iter(train_loader).next() # samples, labels를 데이터 로더에서 순서대로 꺼내기\n",
        "classes = {0:'cat', 1:'dog'}\n",
        "flg = plt.figure(figsize=(16,24))\n",
        "for i in range(24):\n",
        "  a = fig.add_subplot(4,6,i+1)\n",
        "  a.set_title(classes[labels[i].item()])\n",
        "  a.axis('off')\n",
        "  a.imshow(np.transpose(samples[i].numpy(), (1,2,0))) # 전치행렬을 취함\n",
        "plt.subplots_adjust(bottom=0.2, top=0.6, hspace=0)"
      ],
      "metadata": {
        "colab": {
          "base_uri": "https://localhost:8080/",
          "height": 134
        },
        "id": "SGpG6-WgmiTP",
        "outputId": "c22d4d3d-6da5-42dd-9239-0abcc53f7d55"
      },
      "execution_count": null,
      "outputs": [
        {
          "output_type": "error",
          "ename": "SyntaxError",
          "evalue": "ignored",
          "traceback": [
            "\u001b[0;36m  File \u001b[0;32m\"<ipython-input-14-da463606073a>\"\u001b[0;36m, line \u001b[0;32m2\u001b[0m\n\u001b[0;31m    classes = [0:'cat', 1:'dog']\u001b[0m\n\u001b[0m                ^\u001b[0m\n\u001b[0;31mSyntaxError\u001b[0m\u001b[0;31m:\u001b[0m invalid syntax\n"
          ]
        }
      ]
    },
    {
      "cell_type": "markdown",
      "source": [
        "#####**사전 훈련된 모델 내려받기**"
      ],
      "metadata": {
        "id": "o_KM8dNsoTJx"
      }
    },
    {
      "cell_type": "code",
      "source": [
        "resnet18 = models.resnet18(pretrained=True) # 18개의 합성곱층으로 이루어진 합성곱 신경망"
      ],
      "metadata": {
        "id": "qKeV99WboSzA"
      },
      "execution_count": null,
      "outputs": []
    },
    {
      "cell_type": "markdown",
      "source": [
        "#####**사전 훈련된 모델의 파라미터 학습 유무 지정**"
      ],
      "metadata": {
        "id": "65oLIq0Lolsd"
      }
    },
    {
      "cell_type": "code",
      "source": [
        "def set_parameter_requires_grad(model, feature_extracting=True):\n",
        "  if feature_extracting:\n",
        "    for param in model.parameters():\n",
        "      param.requires_grad = False # 가중치를 고정하도록 지정하여 모델 일부를 고정하고 나머지를 학습\n",
        "\n",
        "set_parameter_requires_grad(resnet18)"
      ],
      "metadata": {
        "id": "FAV2jHUkok1V"
      },
      "execution_count": null,
      "outputs": []
    },
    {
      "cell_type": "markdown",
      "source": [
        "#####**ResNet18에 완전연결층 추가**"
      ],
      "metadata": {
        "id": "i4XR-uXAo8bG"
      }
    },
    {
      "cell_type": "code",
      "source": [
        "resnet18.fc = nn.Linear(512, 2)"
      ],
      "metadata": {
        "colab": {
          "base_uri": "https://localhost:8080/",
          "height": 170
        },
        "id": "iuUQlRR-o35k",
        "outputId": "ef93d4ba-36ec-4a49-a3ea-c78372c6419a"
      },
      "execution_count": null,
      "outputs": [
        {
          "output_type": "error",
          "ename": "NameError",
          "evalue": "ignored",
          "traceback": [
            "\u001b[0;31m---------------------------------------------------------------------------\u001b[0m",
            "\u001b[0;31mNameError\u001b[0m                                 Traceback (most recent call last)",
            "\u001b[0;32m<ipython-input-15-bca93408b2ab>\u001b[0m in \u001b[0;36m<cell line: 1>\u001b[0;34m()\u001b[0m\n\u001b[0;32m----> 1\u001b[0;31m \u001b[0mresnet18\u001b[0m\u001b[0;34m.\u001b[0m\u001b[0mfc\u001b[0m \u001b[0;34m=\u001b[0m \u001b[0mnn\u001b[0m\u001b[0;34m.\u001b[0m\u001b[0mLinear\u001b[0m\u001b[0;34m(\u001b[0m\u001b[0;36m512\u001b[0m\u001b[0;34m,\u001b[0m \u001b[0;36m2\u001b[0m\u001b[0;34m)\u001b[0m\u001b[0;34m\u001b[0m\u001b[0;34m\u001b[0m\u001b[0m\n\u001b[0m",
            "\u001b[0;31mNameError\u001b[0m: name 'resnet18' is not defined"
          ]
        }
      ]
    },
    {
      "cell_type": "markdown",
      "source": [
        "#####**모델의 파라미터 값 확인**"
      ],
      "metadata": {
        "id": "mZOTE3qFpERK"
      }
    },
    {
      "cell_type": "code",
      "source": [
        "for name, param in resnet18.named_parameters(): # 모델에 접근하여 파라미터를 가져오고, 출력\n",
        "  if param.requires_grad:\n",
        "    print(name, param.data)"
      ],
      "metadata": {
        "id": "A7pIUon0pD3S"
      },
      "execution_count": null,
      "outputs": []
    },
    {
      "cell_type": "markdown",
      "source": [
        "#####**모델 객체 생성 및 손실 함수 정의**"
      ],
      "metadata": {
        "id": "q0D31OFepMy-"
      }
    },
    {
      "cell_type": "code",
      "source": [
        "model = model.resnet18(pretrained=True)\n",
        "\n",
        "for param in model.parameters():\n",
        "  param.requires_grad = False # 가중치 고정\n",
        "\n",
        "model.fc = torch.nn.Linear(512, 2)\n",
        "for param in model.fc.parameters(): # 완전 연결층은 가중치 고정 X\n",
        "  param.requires.grad = True\n",
        "\n",
        "optimizer = torch.optim.Adam(model.fc.parameters())\n",
        "cost = torch.nn.CrossEntropyLoss()\n",
        "print(model)"
      ],
      "metadata": {
        "id": "m45wjy9epMkr"
      },
      "execution_count": null,
      "outputs": []
    },
    {
      "cell_type": "markdown",
      "source": [
        "#####**모델 학습을 위한 함수 생성**"
      ],
      "metadata": {
        "id": "iRbxzXXjc9nh"
      }
    },
    {
      "cell_type": "code",
      "source": [
        "def train_model(model, dataloaders, criterion, optimizer, device, num_epochs=13,\n",
        "                is_train=True):\n",
        "  since = time.time()\n",
        "  acc_history = []\n",
        "  loss_history = []\n",
        "  best_acc = 0.0\n",
        "\n",
        "  for epoch in range(num_epochs):\n",
        "    print('Epoch {}/{}'.format(epoch, num_epochs-1))\n",
        "    print('-' * 10)\n",
        "\n",
        "    running_loss = 0.0\n",
        "    running_corrects = 0\n",
        "\n",
        "    for inputs, labels in dataloaders:\n",
        "      inputs = inputs.to(device)\n",
        "      labels = labels.to(device)\n",
        "\n",
        "      model.to(device)\n",
        "      optimizer.zero_grad() # 기울기를 0으로 설정\n",
        "      outputs = model(inputs)\n",
        "      loss = criterion(outputs, labels) # criterion을 이용한 손실 계산\n",
        "      _, preds = torch.max(outputs, 1) # 예측값이 가장 큰 것을 preds에 저장\n",
        "      loss.backward() # 역전파 수행\n",
        "      optimizer.step() # 가중치 업데이트\n",
        "\n",
        "      running_loss += loss.item() * inputs.size(0)\n",
        "      running_corrects += torch.sum(preds == labels.data)\n",
        "\n",
        "    epoch_loss = running_loss / len(dataloaders.dataset)\n",
        "    epoch_acc = running_corrects.double() / len(dataloaders.dataset)\n",
        "    print('Loss: {:.4f} Acc: {:.4f}'.format(epoch_loss, epoch_acc))\n",
        "\n",
        "    if epoch_acc > best_acc: # 가장 높은 정확도 갱신\n",
        "      best_acc = epoch_acc\n",
        "\n",
        "    acc_history.append(epoch_acc.item())\n",
        "\n",
        "        loss_history.append(epoch_loss)\n",
        "        torch.save(model.state_dict(), as path.join('../chap05/data/catanddog/',\n",
        "                                                    '{0:0=2d}.pth'.format(epoch)))\n",
        "        print()\n",
        "\n",
        "      time_elapsed = time.time() - since\n",
        "      print('Training complete in {:.0f}m {:0f}s'.format(time_elapsed // 60,\n",
        "                                                         time_elapsed % 60))\n",
        "      print('Best Acc: {:4f}'.format(best_acc))\n",
        "      return acc_history, loss_history"
      ],
      "metadata": {
        "id": "85iYeJZUc_1V"
      },
      "execution_count": null,
      "outputs": []
    },
    {
      "cell_type": "markdown",
      "source": [
        "#####**파라미터 학습 결과를 옵티마이저에 전달**"
      ],
      "metadata": {
        "id": "nDDotcbWhxkN"
      }
    },
    {
      "cell_type": "code",
      "source": [
        "params_to_update = []\n",
        "for name, param in resnet18.named_parameters():\n",
        "  if param.requires_grad == True:\n",
        "    params_to_update.append(param) # requires_grad == True인 학습 결과만 리스트에 저장\n",
        "    print(\"\\t\", name)\n",
        "\n",
        "optimizer = optim.Adam(params_to_update) # 생성된 리스트를 Adam 대상으로 지정"
      ],
      "metadata": {
        "id": "ajJOJZcvh0BQ"
      },
      "execution_count": null,
      "outputs": []
    },
    {
      "cell_type": "markdown",
      "source": [],
      "metadata": {
        "id": "Fk6HRgZtiTmx"
      }
    },
    {
      "cell_type": "markdown",
      "source": [
        "#####**모델 학습**"
      ],
      "metadata": {
        "id": "r7Zguz9FiEdW"
      }
    },
    {
      "cell_type": "code",
      "source": [
        "device = torch.device(\"cuda\" if torch.cuda.is_available() else \"cpu\")\n",
        "criterion = nn.CrossEntropyLoss()\n",
        "train_acc_hist, train_loss_hist = train_model(resnet18, train_loader, criterion,\n",
        "                                              optimizer, device)"
      ],
      "metadata": {
        "id": "a-onab33iFky"
      },
      "execution_count": null,
      "outputs": []
    },
    {
      "cell_type": "markdown",
      "source": [
        "#####**테스트 데이터 호출 및 전처리**"
      ],
      "metadata": {
        "id": "BTxNLp6qiXPr"
      }
    },
    {
      "cell_type": "code",
      "source": [
        "test_path = '../chap05/data/catanddog/test'\n",
        "\n",
        "transform = transforms.Compose( # 224 x 224 사이즈로 변경 후 텐서 변환\n",
        "    [\n",
        "        transforms.Resize(224),\n",
        "        transforms.CenterCrop(224),\n",
        "        transforms.ToTensor(),\n",
        "    ]\n",
        ")\n",
        "\n",
        "test_dataset = torchvision.datasets.ImageFolder(\n",
        "    root=test_path,\n",
        "    transform=transform\n",
        ")\n",
        "\n",
        "test_loader = torch.utils.data.DataLoader( # 해당 속성값들로 데이터 로드\n",
        "    test_dataset,\n",
        "    batch_size=32,\n",
        "    num_workers=1,\n",
        "    shuffle=True\n",
        ")\n",
        "\n",
        "print(len(test_dataset))"
      ],
      "metadata": {
        "id": "pQYh-x2YiY9V"
      },
      "execution_count": null,
      "outputs": []
    },
    {
      "cell_type": "markdown",
      "source": [
        "#####**테스트 데이터 평가 함수 생성**"
      ],
      "metadata": {
        "id": "a6KEllyKjLka"
      }
    },
    {
      "cell_type": "code",
      "source": [
        "def eval_model(model, dataloadeers, device):\n",
        "  since = time.time()\n",
        "  acc_history = []\n",
        "  best_acc = 0.0\n",
        "\n",
        "  saved_models = glob.glob('../chap05/data/catanddog/' + '*.pth') # 원하는 파일만 추출\n",
        "  saved_models.sort()\n",
        "  print('saved_model', saved_models)\n",
        "\n",
        "  for model_path in saved_models:\n",
        "    print('Loading model', model_path)\n",
        "    model.load_state_dict(torch.load(model_path))\n",
        "    model.eval()\n",
        "    model.to(device)\n",
        "    running_corrects = 0\n",
        "\n",
        "    for inputs, labels in dataloaders:\n",
        "      inputs = inputs.to(device)\n",
        "      labels = labels.to(device)\n",
        "\n",
        "      with torch.no_grad(): # 그래디언트 계산을 수행하지 않도록 설정\n",
        "        outputs = model(inputs)\n",
        "\n",
        "      _, preds = torch.max(outputs.data, 1) # 배열의 최댓값을 저장\n",
        "      preds[preds >= 0.5] = 1 # preds이 0.5보다 크면 참\n",
        "      preds[preds < 0.5] = 0 # preds가 0.5보다 작으면 거짓\n",
        "      running_corrects += preds.eq(labels.cpu()).int().sum()\n",
        "      \n",
        "      epoch_acc = running_corrects.double() / len(dataloaders.dataset) # 정확도 계산\n",
        "      print('Acc: {:4f}'.format(epoch_acc))\n",
        "\n",
        "      if epoch_acc > best_acc: # 최고의 정확도 갱신\n",
        "        best_acc = epoch_acc\n",
        "\n",
        "        acc_history.append(epoch_acc.item())\n",
        "        print()\n",
        "\n",
        "      time_elapsed = time.time() - since\n",
        "      print('Validation complete in {:.0f}m {:.0f}s'.format(time_elapsed // 60,\n",
        "                                                            time_elapsed % 60))\n",
        "      print('Best Acc: {:4f}'.format(best_acc))\n",
        "\n",
        "      return acc_history"
      ],
      "metadata": {
        "id": "2U6sa3kqjNhm"
      },
      "execution_count": null,
      "outputs": []
    },
    {
      "cell_type": "markdown",
      "source": [
        "#####**테스트 데이터를 평가 함수에 적용**"
      ],
      "metadata": {
        "id": "DF--PhiXkr2d"
      }
    },
    {
      "cell_type": "code",
      "source": [
        "val_acc_hist = eval_model(resnet18, test_loader, device)"
      ],
      "metadata": {
        "id": "yRBZvvwbkume"
      },
      "execution_count": null,
      "outputs": []
    },
    {
      "cell_type": "markdown",
      "source": [
        "#####**훈련과 테스트 데이터의 정확도를 그래프로 확인**"
      ],
      "metadata": {
        "id": "ZMbqVnhvk17O"
      }
    },
    {
      "cell_type": "code",
      "source": [
        "plt.plot(train_acc_hist)\n",
        "plt.plot(val_acc_hist)\n",
        "plt.show()"
      ],
      "metadata": {
        "id": "De3Tc5mRk4K0"
      },
      "execution_count": null,
      "outputs": []
    },
    {
      "cell_type": "markdown",
      "source": [
        "#####**훈련 데이터의 오차에 대한 그래프 확인**"
      ],
      "metadata": {
        "id": "7P1BtIn6k9vO"
      }
    },
    {
      "cell_type": "code",
      "source": [
        "plt.plot(train_loss_hist)\n",
        "plt.show()"
      ],
      "metadata": {
        "id": "DVOeTceBk_8H"
      },
      "execution_count": null,
      "outputs": []
    },
    {
      "cell_type": "markdown",
      "source": [
        "#####**예측 이미지 출력을 위한 전처리 함수**"
      ],
      "metadata": {
        "id": "ckhFp1czlDwI"
      }
    },
    {
      "cell_type": "code",
      "source": [
        "def im_convert(tensor):\n",
        "  image = tensor.clone().detach().numpy() # 텐서를 복사해 생성하지만, 기울기에는 영향을 주지 않음\n",
        "  image = image.transpose(1, 2, 0) # 이미지 차원 변환\n",
        "  image = image * (np.array((0.5,0.5,0.5)) + np.array((0.5,0.5,0.5))) # 이미지 조절\n",
        "  image = image.clip(0, 1) # 이미지 데이터를 0과 1사이로 제한\n",
        "  return image"
      ],
      "metadata": {
        "id": "kYX_HyGAlGG5"
      },
      "execution_count": null,
      "outputs": []
    },
    {
      "cell_type": "markdown",
      "source": [
        "#####**개와 고양이 예측 결과 출력**"
      ],
      "metadata": {
        "id": "7SE8e-1_ls4s"
      }
    },
    {
      "cell_type": "code",
      "source": [
        "classes = {0:'cat', 1:'dog'} # 대부분의 코드가 겹쳐서 주석은 중복 작성하지 않았습니다.\n",
        "\n",
        "dataiter = iter(test_loader)\n",
        "images, labels = dataiter.next()\n",
        "output = model(images)\n",
        "_, preds = torch.max(output, 1)\n",
        "\n",
        "flg = plt.figure(figsize=(25,4))\n",
        "for idx in np.arange(20):\n",
        "  ax = fig.add_subplot(2, 10, idx+1, xticks=[], yticks=[])\n",
        "  plt.imshow(im_conveert(images[idx]))\n",
        "  a.set_title(classes[labels[i].item()])\n",
        "ax.set_title(\"{}({})\".format(str(classes[preds[idx].item()]), str(classes[labels[idx].\n",
        "                                                                          item()])), color=(\"green\" if preds[idx]==labels[idx] else \"red\"))\n",
        "plt.show()\n",
        "plt.subplots_adjust(bottom=0.2, top=0.6, hspace=0)"
      ],
      "metadata": {
        "id": "M_hCHOovlvMO"
      },
      "execution_count": null,
      "outputs": []
    },
    {
      "cell_type": "markdown",
      "source": [
        "###설명 가능한 CNN"
      ],
      "metadata": {
        "id": "0KAfCANzm3cm"
      }
    },
    {
      "cell_type": "markdown",
      "source": [
        "#####**필요한 라이브러리 호출**"
      ],
      "metadata": {
        "id": "jxWyS4e9nIhm"
      }
    },
    {
      "cell_type": "code",
      "source": [
        "import matplotlib.pyplot as plt\n",
        "from PIL import Image\n",
        "import cv2\n",
        "import torch\n",
        "import torch.nn.functional as F\n",
        "import torch.nn as nn\n",
        "from torchvision.transforms import ToTensor\n",
        "import torchvision\n",
        "import torchvision.transforms as transforms\n",
        "import torchvision.models as models\n",
        "\n",
        "device = torch.device(\"cuda\" if torch.cuda.is_available() else \"cpu\")"
      ],
      "metadata": {
        "id": "Fxgoje8Gm7kk"
      },
      "execution_count": 14,
      "outputs": []
    },
    {
      "cell_type": "markdown",
      "source": [
        "#####**설명 가능한 네트워크 생성**"
      ],
      "metadata": {
        "id": "MzwQU-p_nl-z"
      }
    },
    {
      "cell_type": "code",
      "source": [
        "class XAI(torch.nn.Module): \n",
        "  def __init__(self, num_classes=2):\n",
        "    super(XAI, self).__init__()\n",
        "    self.features = nn.Sequential( # 합성곱 층을 쌓는 과정\n",
        "        nn.Conv2d(3, 64, kernel_size=3, bias=False),\n",
        "        nn.BatchNorm2d(64),\n",
        "        nn.ReLU(inplace=True), # 기존 데이터를 연산의 결괏값으로 대체\n",
        "        nn.Dropout(0.3),\n",
        "        nn.Conv2d(64, 64, kernel_size=3, padding=1, bias=False),\n",
        "        nn.BatchNorm2d(64),\n",
        "        nn.ReLU(inplace=True),\n",
        "        nn.MaxPool2d(kernel_size=2, stride=2),\n",
        "\n",
        "        nn.Conv2d(64, 128, kernel_size=3, padding=1, bias=False),\n",
        "        nn.BatchNorm2d(128),\n",
        "        nn.ReLU(inplace=True),\n",
        "        nn.Dropout(0.4),\n",
        "        nn.Conv2d(128, 128, kernel_size=3, padding=1, bias=False),\n",
        "        nn.BatchNorm2d(128),\n",
        "        nn.ReLU(inplace=True),\n",
        "        nn.MaxPool2d(kernel_size=2, stride=2),\n",
        "\n",
        "        nn.Conv2d(128, 256, kernel_size=3, padding=1, bias=False),\n",
        "        nn.BatchNorm2d(256),\n",
        "        nn.ReLU(inplace=True),\n",
        "        nn.Dropout(0.4),\n",
        "        nn.Conv2d(256, 256, kernel_size=3, padding=1, bias=False),\n",
        "        nn.BatchNorm2d(256),\n",
        "        nn.ReLU(inplace=True),\n",
        "        nn.Dropout(0.4),\n",
        "        nn.Conv2d(256, 256, kernel_size=3, padding=1, bias=False),\n",
        "        nn.BatchNorm2d(256),\n",
        "        nn.ReLU(inplace=True),\n",
        "        nn.MaxPool2d(kernel_size=2, stride=2),\n",
        "\n",
        "        nn.Conv2d(256, 512, kernel_size=3, padding=1, bias=False),\n",
        "        nn.BatchNorm2d(512),\n",
        "        nn.ReLU(inplace=True),\n",
        "        nn.Dropout(0.4),\n",
        "        nn.Conv2d(512, 512, kernel_size=3, padding=1, bias=False),\n",
        "        nn.BatchNorm2d(512),\n",
        "        nn.ReLU(inplace=True),\n",
        "        nn.Dropout(0.4),\n",
        "        nn.Conv2d(512, 512, kernel_size=3, padding=1, bias=False),\n",
        "        nn.BatchNorm2d(512),\n",
        "        nn.ReLU(inplace=True),\n",
        "        nn.MaxPool2d(kernel_size=2, stride=2),\n",
        "\n",
        "        nn.Conv2d(512, 512, kernel_size=3, padding=1, bias=False),\n",
        "        nn.BatchNorm2d(512),\n",
        "        nn.ReLU(inplace=True),\n",
        "        nn.Dropout(0.4),\n",
        "        nn.Conv2d(512, 512, kernel_size=3, padding=1, bias=False),\n",
        "        nn.BatchNorm2d(512),\n",
        "        nn.ReLU(inplace=True),\n",
        "        nn.Dropout(0.4),\n",
        "        nn.Conv2d(512, 512, kernel_size=3, padding=1, bias=False),\n",
        "        nn.BatchNorm2d(512),\n",
        "        nn.ReLU(inplace=True),\n",
        "        nn.MaxPool2d(kernel_size=2, stride=2),\n",
        "    )\n",
        "\n",
        "    self.classifier = nn.Sequential(\n",
        "        nn.Linear(512, 512, bias=False), # 입력 512, 출력 512의 완전 연결층\n",
        "        nn.Dropout(0.5), # 0.5 비율로 dropout 수행\n",
        "        nn.BatchNorm1d(512), # 입력이 512인 배치 정규화 층 추가\n",
        "        nn.ReLU(inplace=True), # 기존 데이터를 연산의 결괏값으로 대체\n",
        "        nn.Dropout(0.5), # 0.5 비율로 dropout 수행\n",
        "        nn.Linear(512, num_classes) # 입력 512, 출력 num_classes인 완전 연결층\n",
        "    )\n",
        "\n",
        "  def forward(self, x): # 순전파 학습\n",
        "    x = self.features(x)\n",
        "    x = x.view(-1, 512) # 차원 변환\n",
        "    x = self.classifier(x)\n",
        "    return F.log_softmax(x)"
      ],
      "metadata": {
        "id": "DOUYXx2GnkgJ"
      },
      "execution_count": 20,
      "outputs": []
    },
    {
      "cell_type": "markdown",
      "source": [
        "#####**모델 객체화**"
      ],
      "metadata": {
        "id": "0MpMocajpps3"
      }
    },
    {
      "cell_type": "code",
      "source": [
        "model = XAI() # 객체 생성\n",
        "model.to(device)\n",
        "model.eval() # 객체를 모델 평가에 사용"
      ],
      "metadata": {
        "colab": {
          "base_uri": "https://localhost:8080/"
        },
        "id": "TwkV3K1soD0d",
        "outputId": "91ef1125-7e0b-47c2-f755-83c71f9af07f"
      },
      "execution_count": 21,
      "outputs": [
        {
          "output_type": "execute_result",
          "data": {
            "text/plain": [
              "XAI(\n",
              "  (features): Sequential(\n",
              "    (0): Conv2d(3, 64, kernel_size=(3, 3), stride=(1, 1), bias=False)\n",
              "    (1): BatchNorm2d(64, eps=1e-05, momentum=0.1, affine=True, track_running_stats=True)\n",
              "    (2): ReLU(inplace=True)\n",
              "    (3): Dropout(p=0.3, inplace=False)\n",
              "    (4): Conv2d(64, 64, kernel_size=(3, 3), stride=(1, 1), padding=(1, 1), bias=False)\n",
              "    (5): BatchNorm2d(64, eps=1e-05, momentum=0.1, affine=True, track_running_stats=True)\n",
              "    (6): ReLU(inplace=True)\n",
              "    (7): MaxPool2d(kernel_size=2, stride=2, padding=0, dilation=1, ceil_mode=False)\n",
              "    (8): Conv2d(64, 128, kernel_size=(3, 3), stride=(1, 1), padding=(1, 1), bias=False)\n",
              "    (9): BatchNorm2d(128, eps=1e-05, momentum=0.1, affine=True, track_running_stats=True)\n",
              "    (10): ReLU(inplace=True)\n",
              "    (11): Dropout(p=0.4, inplace=False)\n",
              "    (12): Conv2d(128, 128, kernel_size=(3, 3), stride=(1, 1), padding=(1, 1), bias=False)\n",
              "    (13): BatchNorm2d(128, eps=1e-05, momentum=0.1, affine=True, track_running_stats=True)\n",
              "    (14): ReLU(inplace=True)\n",
              "    (15): MaxPool2d(kernel_size=2, stride=2, padding=0, dilation=1, ceil_mode=False)\n",
              "    (16): Conv2d(128, 256, kernel_size=(3, 3), stride=(1, 1), padding=(1, 1), bias=False)\n",
              "    (17): BatchNorm2d(256, eps=1e-05, momentum=0.1, affine=True, track_running_stats=True)\n",
              "    (18): ReLU(inplace=True)\n",
              "    (19): Dropout(p=0.4, inplace=False)\n",
              "    (20): Conv2d(256, 256, kernel_size=(3, 3), stride=(1, 1), padding=(1, 1), bias=False)\n",
              "    (21): BatchNorm2d(256, eps=1e-05, momentum=0.1, affine=True, track_running_stats=True)\n",
              "    (22): ReLU(inplace=True)\n",
              "    (23): Dropout(p=0.4, inplace=False)\n",
              "    (24): Conv2d(256, 256, kernel_size=(3, 3), stride=(1, 1), padding=(1, 1), bias=False)\n",
              "    (25): BatchNorm2d(256, eps=1e-05, momentum=0.1, affine=True, track_running_stats=True)\n",
              "    (26): ReLU(inplace=True)\n",
              "    (27): MaxPool2d(kernel_size=2, stride=2, padding=0, dilation=1, ceil_mode=False)\n",
              "    (28): Conv2d(256, 512, kernel_size=(3, 3), stride=(1, 1), padding=(1, 1), bias=False)\n",
              "    (29): BatchNorm2d(512, eps=1e-05, momentum=0.1, affine=True, track_running_stats=True)\n",
              "    (30): ReLU(inplace=True)\n",
              "    (31): Dropout(p=0.4, inplace=False)\n",
              "    (32): Conv2d(512, 512, kernel_size=(3, 3), stride=(1, 1), padding=(1, 1), bias=False)\n",
              "    (33): BatchNorm2d(512, eps=1e-05, momentum=0.1, affine=True, track_running_stats=True)\n",
              "    (34): ReLU(inplace=True)\n",
              "    (35): Dropout(p=0.4, inplace=False)\n",
              "    (36): Conv2d(512, 512, kernel_size=(3, 3), stride=(1, 1), padding=(1, 1), bias=False)\n",
              "    (37): BatchNorm2d(512, eps=1e-05, momentum=0.1, affine=True, track_running_stats=True)\n",
              "    (38): ReLU(inplace=True)\n",
              "    (39): MaxPool2d(kernel_size=2, stride=2, padding=0, dilation=1, ceil_mode=False)\n",
              "    (40): Conv2d(512, 512, kernel_size=(3, 3), stride=(1, 1), padding=(1, 1), bias=False)\n",
              "    (41): BatchNorm2d(512, eps=1e-05, momentum=0.1, affine=True, track_running_stats=True)\n",
              "    (42): ReLU(inplace=True)\n",
              "    (43): Dropout(p=0.4, inplace=False)\n",
              "    (44): Conv2d(512, 512, kernel_size=(3, 3), stride=(1, 1), padding=(1, 1), bias=False)\n",
              "    (45): BatchNorm2d(512, eps=1e-05, momentum=0.1, affine=True, track_running_stats=True)\n",
              "    (46): ReLU(inplace=True)\n",
              "    (47): Dropout(p=0.4, inplace=False)\n",
              "    (48): Conv2d(512, 512, kernel_size=(3, 3), stride=(1, 1), padding=(1, 1), bias=False)\n",
              "    (49): BatchNorm2d(512, eps=1e-05, momentum=0.1, affine=True, track_running_stats=True)\n",
              "    (50): ReLU(inplace=True)\n",
              "    (51): MaxPool2d(kernel_size=2, stride=2, padding=0, dilation=1, ceil_mode=False)\n",
              "  )\n",
              "  (classifier): Sequential(\n",
              "    (0): Linear(in_features=512, out_features=512, bias=False)\n",
              "    (1): Dropout(p=0.5, inplace=False)\n",
              "    (2): BatchNorm1d(512, eps=1e-05, momentum=0.1, affine=True, track_running_stats=True)\n",
              "    (3): ReLU(inplace=True)\n",
              "    (4): Dropout(p=0.5, inplace=False)\n",
              "    (5): Linear(in_features=512, out_features=2, bias=True)\n",
              "  )\n",
              ")"
            ]
          },
          "metadata": {},
          "execution_count": 21
        }
      ]
    },
    {
      "cell_type": "markdown",
      "source": [
        "#####**특성 맵을 확인하기 위한 클래스 정의**"
      ],
      "metadata": {
        "id": "zuavusBGqMNO"
      }
    },
    {
      "cell_type": "code",
      "source": [
        "class LayerActivations:\n",
        "  features = []\n",
        "  def __init__(self, model, layer_num):\n",
        "    self.hook = model[layer_num].register_forward_hook(self.hook_fn) # print 대신 hook을 사용해 각 계층의 활성화 함수 값 및 기울기 값 확인\n",
        "\n",
        "  def hook_fn(self, module, input, output):\n",
        "    self.features = output.detach().numpy() # 계층의 출력값을 features에 저장\n",
        "  \n",
        "  def remove(self):\n",
        "    self.hook.remove() # hook 제거"
      ],
      "metadata": {
        "id": "CBFiYRCKp9JN"
      },
      "execution_count": 22,
      "outputs": []
    },
    {
      "cell_type": "markdown",
      "source": [
        "#####**이미지 호출**"
      ],
      "metadata": {
        "id": "hqcaj2kGqpN1"
      }
    },
    {
      "cell_type": "code",
      "source": [
        "img = cv2.imread(\"../chap05/data/cat.jpg\")\n",
        "plt.imshow(img)\n",
        "img = cv2.resize(img, (100,100), interpolation=cv2.INTER_LINEAR)\n",
        "img = ToTensor()(img).unsqueeze(0)\n",
        "print(img.shape)"
      ],
      "metadata": {
        "colab": {
          "base_uri": "https://localhost:8080/",
          "height": 808
        },
        "id": "7-SKWmt-ql-t",
        "outputId": "876ea872-a9c5-45dd-b6a7-692ed1ae94a8"
      },
      "execution_count": 24,
      "outputs": [
        {
          "output_type": "error",
          "ename": "TypeError",
          "evalue": "ignored",
          "traceback": [
            "\u001b[0;31m---------------------------------------------------------------------------\u001b[0m",
            "\u001b[0;31mTypeError\u001b[0m                                 Traceback (most recent call last)",
            "\u001b[0;32m<ipython-input-24-3fe8e0d924a7>\u001b[0m in \u001b[0;36m<cell line: 2>\u001b[0;34m()\u001b[0m\n\u001b[1;32m      1\u001b[0m \u001b[0mimg\u001b[0m \u001b[0;34m=\u001b[0m \u001b[0mcv2\u001b[0m\u001b[0;34m.\u001b[0m\u001b[0mimread\u001b[0m\u001b[0;34m(\u001b[0m\u001b[0;34m\"../chap05/data/cat.jpg\"\u001b[0m\u001b[0;34m)\u001b[0m\u001b[0;34m\u001b[0m\u001b[0;34m\u001b[0m\u001b[0m\n\u001b[0;32m----> 2\u001b[0;31m \u001b[0mplt\u001b[0m\u001b[0;34m.\u001b[0m\u001b[0mimshow\u001b[0m\u001b[0;34m(\u001b[0m\u001b[0mimg\u001b[0m\u001b[0;34m)\u001b[0m\u001b[0;34m\u001b[0m\u001b[0;34m\u001b[0m\u001b[0m\n\u001b[0m\u001b[1;32m      3\u001b[0m \u001b[0mimg\u001b[0m \u001b[0;34m=\u001b[0m \u001b[0mcv2\u001b[0m\u001b[0;34m.\u001b[0m\u001b[0mresize\u001b[0m\u001b[0;34m(\u001b[0m\u001b[0mimg\u001b[0m\u001b[0;34m,\u001b[0m \u001b[0;34m(\u001b[0m\u001b[0;36m100\u001b[0m\u001b[0;34m,\u001b[0m\u001b[0;36m100\u001b[0m\u001b[0;34m)\u001b[0m\u001b[0;34m,\u001b[0m \u001b[0minterpolation\u001b[0m\u001b[0;34m=\u001b[0m\u001b[0mcv2\u001b[0m\u001b[0;34m.\u001b[0m\u001b[0mINTER_LINEAR\u001b[0m\u001b[0;34m)\u001b[0m\u001b[0;34m\u001b[0m\u001b[0;34m\u001b[0m\u001b[0m\n\u001b[1;32m      4\u001b[0m \u001b[0mimg\u001b[0m \u001b[0;34m=\u001b[0m \u001b[0mToTensor\u001b[0m\u001b[0;34m(\u001b[0m\u001b[0;34m)\u001b[0m\u001b[0;34m(\u001b[0m\u001b[0mimg\u001b[0m\u001b[0;34m)\u001b[0m\u001b[0;34m.\u001b[0m\u001b[0munsqueeze\u001b[0m\u001b[0;34m(\u001b[0m\u001b[0;36m0\u001b[0m\u001b[0;34m)\u001b[0m\u001b[0;34m\u001b[0m\u001b[0;34m\u001b[0m\u001b[0m\n\u001b[1;32m      5\u001b[0m \u001b[0mprint\u001b[0m\u001b[0;34m(\u001b[0m\u001b[0mimg\u001b[0m\u001b[0;34m.\u001b[0m\u001b[0mshape\u001b[0m\u001b[0;34m)\u001b[0m\u001b[0;34m\u001b[0m\u001b[0;34m\u001b[0m\u001b[0m\n",
            "\u001b[0;32m/usr/local/lib/python3.9/dist-packages/matplotlib/pyplot.py\u001b[0m in \u001b[0;36mimshow\u001b[0;34m(X, cmap, norm, aspect, interpolation, alpha, vmin, vmax, origin, extent, interpolation_stage, filternorm, filterrad, resample, url, data, **kwargs)\u001b[0m\n\u001b[1;32m   2693\u001b[0m         \u001b[0minterpolation_stage\u001b[0m\u001b[0;34m=\u001b[0m\u001b[0;32mNone\u001b[0m\u001b[0;34m,\u001b[0m \u001b[0mfilternorm\u001b[0m\u001b[0;34m=\u001b[0m\u001b[0;32mTrue\u001b[0m\u001b[0;34m,\u001b[0m \u001b[0mfilterrad\u001b[0m\u001b[0;34m=\u001b[0m\u001b[0;36m4.0\u001b[0m\u001b[0;34m,\u001b[0m\u001b[0;34m\u001b[0m\u001b[0;34m\u001b[0m\u001b[0m\n\u001b[1;32m   2694\u001b[0m         resample=None, url=None, data=None, **kwargs):\n\u001b[0;32m-> 2695\u001b[0;31m     __ret = gca().imshow(\n\u001b[0m\u001b[1;32m   2696\u001b[0m         \u001b[0mX\u001b[0m\u001b[0;34m,\u001b[0m \u001b[0mcmap\u001b[0m\u001b[0;34m=\u001b[0m\u001b[0mcmap\u001b[0m\u001b[0;34m,\u001b[0m \u001b[0mnorm\u001b[0m\u001b[0;34m=\u001b[0m\u001b[0mnorm\u001b[0m\u001b[0;34m,\u001b[0m \u001b[0maspect\u001b[0m\u001b[0;34m=\u001b[0m\u001b[0maspect\u001b[0m\u001b[0;34m,\u001b[0m\u001b[0;34m\u001b[0m\u001b[0;34m\u001b[0m\u001b[0m\n\u001b[1;32m   2697\u001b[0m         \u001b[0minterpolation\u001b[0m\u001b[0;34m=\u001b[0m\u001b[0minterpolation\u001b[0m\u001b[0;34m,\u001b[0m \u001b[0malpha\u001b[0m\u001b[0;34m=\u001b[0m\u001b[0malpha\u001b[0m\u001b[0;34m,\u001b[0m \u001b[0mvmin\u001b[0m\u001b[0;34m=\u001b[0m\u001b[0mvmin\u001b[0m\u001b[0;34m,\u001b[0m\u001b[0;34m\u001b[0m\u001b[0;34m\u001b[0m\u001b[0m\n",
            "\u001b[0;32m/usr/local/lib/python3.9/dist-packages/matplotlib/__init__.py\u001b[0m in \u001b[0;36minner\u001b[0;34m(ax, data, *args, **kwargs)\u001b[0m\n\u001b[1;32m   1440\u001b[0m     \u001b[0;32mdef\u001b[0m \u001b[0minner\u001b[0m\u001b[0;34m(\u001b[0m\u001b[0max\u001b[0m\u001b[0;34m,\u001b[0m \u001b[0;34m*\u001b[0m\u001b[0margs\u001b[0m\u001b[0;34m,\u001b[0m \u001b[0mdata\u001b[0m\u001b[0;34m=\u001b[0m\u001b[0;32mNone\u001b[0m\u001b[0;34m,\u001b[0m \u001b[0;34m**\u001b[0m\u001b[0mkwargs\u001b[0m\u001b[0;34m)\u001b[0m\u001b[0;34m:\u001b[0m\u001b[0;34m\u001b[0m\u001b[0;34m\u001b[0m\u001b[0m\n\u001b[1;32m   1441\u001b[0m         \u001b[0;32mif\u001b[0m \u001b[0mdata\u001b[0m \u001b[0;32mis\u001b[0m \u001b[0;32mNone\u001b[0m\u001b[0;34m:\u001b[0m\u001b[0;34m\u001b[0m\u001b[0;34m\u001b[0m\u001b[0m\n\u001b[0;32m-> 1442\u001b[0;31m             \u001b[0;32mreturn\u001b[0m \u001b[0mfunc\u001b[0m\u001b[0;34m(\u001b[0m\u001b[0max\u001b[0m\u001b[0;34m,\u001b[0m \u001b[0;34m*\u001b[0m\u001b[0mmap\u001b[0m\u001b[0;34m(\u001b[0m\u001b[0msanitize_sequence\u001b[0m\u001b[0;34m,\u001b[0m \u001b[0margs\u001b[0m\u001b[0;34m)\u001b[0m\u001b[0;34m,\u001b[0m \u001b[0;34m**\u001b[0m\u001b[0mkwargs\u001b[0m\u001b[0;34m)\u001b[0m\u001b[0;34m\u001b[0m\u001b[0;34m\u001b[0m\u001b[0m\n\u001b[0m\u001b[1;32m   1443\u001b[0m \u001b[0;34m\u001b[0m\u001b[0m\n\u001b[1;32m   1444\u001b[0m         \u001b[0mbound\u001b[0m \u001b[0;34m=\u001b[0m \u001b[0mnew_sig\u001b[0m\u001b[0;34m.\u001b[0m\u001b[0mbind\u001b[0m\u001b[0;34m(\u001b[0m\u001b[0max\u001b[0m\u001b[0;34m,\u001b[0m \u001b[0;34m*\u001b[0m\u001b[0margs\u001b[0m\u001b[0;34m,\u001b[0m \u001b[0;34m**\u001b[0m\u001b[0mkwargs\u001b[0m\u001b[0;34m)\u001b[0m\u001b[0;34m\u001b[0m\u001b[0;34m\u001b[0m\u001b[0m\n",
            "\u001b[0;32m/usr/local/lib/python3.9/dist-packages/matplotlib/axes/_axes.py\u001b[0m in \u001b[0;36mimshow\u001b[0;34m(self, X, cmap, norm, aspect, interpolation, alpha, vmin, vmax, origin, extent, interpolation_stage, filternorm, filterrad, resample, url, **kwargs)\u001b[0m\n\u001b[1;32m   5663\u001b[0m                               **kwargs)\n\u001b[1;32m   5664\u001b[0m \u001b[0;34m\u001b[0m\u001b[0m\n\u001b[0;32m-> 5665\u001b[0;31m         \u001b[0mim\u001b[0m\u001b[0;34m.\u001b[0m\u001b[0mset_data\u001b[0m\u001b[0;34m(\u001b[0m\u001b[0mX\u001b[0m\u001b[0;34m)\u001b[0m\u001b[0;34m\u001b[0m\u001b[0;34m\u001b[0m\u001b[0m\n\u001b[0m\u001b[1;32m   5666\u001b[0m         \u001b[0mim\u001b[0m\u001b[0;34m.\u001b[0m\u001b[0mset_alpha\u001b[0m\u001b[0;34m(\u001b[0m\u001b[0malpha\u001b[0m\u001b[0;34m)\u001b[0m\u001b[0;34m\u001b[0m\u001b[0;34m\u001b[0m\u001b[0m\n\u001b[1;32m   5667\u001b[0m         \u001b[0;32mif\u001b[0m \u001b[0mim\u001b[0m\u001b[0;34m.\u001b[0m\u001b[0mget_clip_path\u001b[0m\u001b[0;34m(\u001b[0m\u001b[0;34m)\u001b[0m \u001b[0;32mis\u001b[0m \u001b[0;32mNone\u001b[0m\u001b[0;34m:\u001b[0m\u001b[0;34m\u001b[0m\u001b[0;34m\u001b[0m\u001b[0m\n",
            "\u001b[0;32m/usr/local/lib/python3.9/dist-packages/matplotlib/image.py\u001b[0m in \u001b[0;36mset_data\u001b[0;34m(self, A)\u001b[0m\n\u001b[1;32m    699\u001b[0m         if (self._A.dtype != np.uint8 and\n\u001b[1;32m    700\u001b[0m                 not np.can_cast(self._A.dtype, float, \"same_kind\")):\n\u001b[0;32m--> 701\u001b[0;31m             raise TypeError(\"Image data of dtype {} cannot be converted to \"\n\u001b[0m\u001b[1;32m    702\u001b[0m                             \"float\".format(self._A.dtype))\n\u001b[1;32m    703\u001b[0m \u001b[0;34m\u001b[0m\u001b[0m\n",
            "\u001b[0;31mTypeError\u001b[0m: Image data of dtype object cannot be converted to float"
          ]
        },
        {
          "output_type": "display_data",
          "data": {
            "text/plain": [
              "<Figure size 640x480 with 1 Axes>"
            ],
            "image/png": "[encoded data removed]"
          },
          "metadata": {}
        }
      ]
    },
    {
      "cell_type": "markdown",
      "source": [
        "이미지가 또 불러와지지 않아 구현 부분까지만 코드 및 주석 작성하였습니다."
      ],
      "metadata": {
        "id": "h39e6nXnr3JC"
      }
    }
  ]
}