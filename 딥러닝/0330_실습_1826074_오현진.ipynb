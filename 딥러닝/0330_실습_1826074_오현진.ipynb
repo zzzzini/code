{
  "nbformat": 4,
  "nbformat_minor": 0,
  "metadata": {
    "colab": {
      "provenance": []
    },
    "kernelspec": {
      "name": "python3",
      "display_name": "Python 3"
    },
    "language_info": {
      "name": "python"
    }
  },
  "cells": [
    {
      "cell_type": "markdown",
      "source": [
        "#**2장. 신경망의 수학적 구성 요소**"
      ],
      "metadata": {
        "id": "bdWqD8SFxws1"
      }
    },
    {
      "cell_type": "markdown",
      "source": [
        "###신경망의 엔진: 그레이디언트 기반 최적화"
      ],
      "metadata": {
        "id": "Hblk-kVLzHzB"
      }
    },
    {
      "cell_type": "markdown",
      "source": [
        "#####**텐서플로의 그레이디언트 테이프**"
      ],
      "metadata": {
        "id": "xnVwJBo6v3o8"
      }
    },
    {
      "cell_type": "code",
      "execution_count": null,
      "metadata": {
        "id": "nV0V2vIyufpo"
      },
      "outputs": [],
      "source": [
        "import tensorflow as tf\n",
        "\n",
        "x = tf.Variable(0.) # tf.Variable은 변경 가능한 상태를 담기 위한 특별한 텐서\n",
        "with tf.GradientTape() as tape: # GradientTape로 자동 미분 기능을 이용할 수 있음\n",
        "  y = 2 * x + 3\n",
        "grad_of_y_wrt_x = tape.gradient(y, x)"
      ]
    },
    {
      "cell_type": "code",
      "source": [
        "x = tf.Variable(tf.zeros((2,2)))\n",
        "with tf.GradientTape() as tape:\n",
        "  y = 2 * x + 3\n",
        "grad_of_y_wrt_x = tape.gradient(y, x)"
      ],
      "metadata": {
        "id": "tGMQb6RZu4Gw"
      },
      "execution_count": null,
      "outputs": []
    },
    {
      "cell_type": "code",
      "source": [
        "W = tf.Variable(tf.random.uniform((2, 2)))\n",
        "b = tf.Variable(tf.zeros((2,)))\n",
        "x = tf.random.uniform((2,2))\n",
        "with tf.GradientTape() as tape:\n",
        "  y = tf.matmul(x, W) + b\n",
        "grad_of_y_wrt_W_and_b = tape.gradient(y, [W, b])"
      ],
      "metadata": {
        "id": "J4mjbQX3vGvN"
      },
      "execution_count": null,
      "outputs": []
    },
    {
      "cell_type": "markdown",
      "source": [
        "###첫 번째 예제 다시 살펴보기"
      ],
      "metadata": {
        "id": "SAd_3Cs5w6wA"
      }
    },
    {
      "cell_type": "markdown",
      "source": [
        "#####**첫 번째 예제 다시 살펴보기**"
      ],
      "metadata": {
        "id": "Pu7gX-RHzN4C"
      }
    },
    {
      "cell_type": "code",
      "source": [
        "from tensorflow.keras.datasets import mnist\n",
        "\n",
        "(train_images, train_labels), (test_images, test_labels) = mnist.load_data()\n",
        "train_images = train_images.reshape((60000, 28 * 28))\n",
        "train_images = train_images.astype(\"float32\") / 255\n",
        "test_images = test_images.reshape((10000, 28 * 28))\n",
        "test_images = test_images.astype(\"float32\") / 255"
      ],
      "metadata": {
        "colab": {
          "base_uri": "https://localhost:8080/"
        },
        "id": "9dylqzQxvzZH",
        "outputId": "634c42c1-0e19-4b58-b6c4-38fe92ee64ac"
      },
      "execution_count": null,
      "outputs": [
        {
          "output_type": "stream",
          "name": "stdout",
          "text": [
            "Downloading data from https://storage.googleapis.com/tensorflow/tf-keras-datasets/mnist.npz\n",
            "11490434/11490434 [==============================] - 0s 0us/step\n"
          ]
        }
      ]
    },
    {
      "cell_type": "code",
      "source": [
        "from tensorflow import keras\n",
        "from tensorflow.keras import layers\n",
        "\n",
        "model = keras.Sequential([ # Sequential > 레이어들을 하나로 묶어줌\n",
        "    layers.Dense(512, activation=\"relu\"),\n",
        "    layers.Dense(10, activation=\"softmax\")\n",
        "])"
      ],
      "metadata": {
        "id": "YhLy90EaxXtg"
      },
      "execution_count": null,
      "outputs": []
    },
    {
      "cell_type": "code",
      "source": [
        "model.compile(optimizer=\"rmsprop\", # compile > training에 필요한 요소들을 하나로 묶어 define 해줌\n",
        "              loss=\"sparse_categorical_crossentropy\",\n",
        "              metrics=[\"accuracy\"])"
      ],
      "metadata": {
        "id": "Rm0Xdh0TyHfK"
      },
      "execution_count": null,
      "outputs": []
    },
    {
      "cell_type": "code",
      "source": [
        "model.fit(train_images, train_labels, epochs=5, batch_size=128)"
      ],
      "metadata": {
        "colab": {
          "base_uri": "https://localhost:8080/"
        },
        "id": "Y5AHp6ZyyprE",
        "outputId": "48560b06-4ebe-485a-9957-0c241930e7f5"
      },
      "execution_count": null,
      "outputs": [
        {
          "output_type": "stream",
          "name": "stdout",
          "text": [
            "Epoch 1/5\n",
            "469/469 [==============================] - 6s 10ms/step - loss: 0.2669 - accuracy: 0.9235\n",
            "Epoch 2/5\n",
            "469/469 [==============================] - 5s 10ms/step - loss: 0.1084 - accuracy: 0.9683\n",
            "Epoch 3/5\n",
            "469/469 [==============================] - 6s 12ms/step - loss: 0.0704 - accuracy: 0.9788\n",
            "Epoch 4/5\n",
            "469/469 [==============================] - 5s 10ms/step - loss: 0.0517 - accuracy: 0.9841\n",
            "Epoch 5/5\n",
            "469/469 [==============================] - 6s 13ms/step - loss: 0.0387 - accuracy: 0.9884\n"
          ]
        },
        {
          "output_type": "execute_result",
          "data": {
            "text/plain": [
              "<keras.callbacks.History at 0x7f78038f5760>"
            ]
          },
          "metadata": {},
          "execution_count": 12
        }
      ]
    },
    {
      "cell_type": "markdown",
      "source": [
        "#####**텐서플로를 사용하여 첫 번째 예제를 밑바닥부터 다시 구현하기**"
      ],
      "metadata": {
        "id": "zIYGhd4azzYR"
      }
    },
    {
      "cell_type": "code",
      "source": [
        "import tensorflow as flow\n",
        "\n",
        "class NaiveDense:\n",
        "  def __init__(self, input_size, output_size, activation):\n",
        "\n",
        "    self.activation = activation\n",
        "\n",
        "    w_shape = (input_size, output_size) # (input_size, output_size) 크기의 행렬 w 생성\n",
        "\n",
        "    w_initial_value = tf.random.uniform(w_shape, minval=0, maxval=1e-1) # 요소들을 랜덤값으로 초기화\n",
        "    self.W = tf.Variable(w_initial_value)\n",
        "\n",
        "    b_shape = (output_size,) # (output_size,) 크기의 행렬 b 생성\n",
        "    b_initial_value = tf.zeros(b_shape) # 요소들을 0으로 초기화\n",
        "    self.b = tf.Variable(b_initial_value)\n",
        "\n",
        "  def __call__(self, inputs): # 입력부터 출력까지 각 계층의 가중치를 계산해주는 정방향 패스 진행\n",
        "    return self.activation(tf.matmul(inputs, self.W) + self.b)\n",
        "\n",
        "  @property\n",
        "  def weights(self): # 가중치를 return 해줌\n",
        "    return [self.W, self.b]"
      ],
      "metadata": {
        "id": "Faqn8NOKz4CB"
      },
      "execution_count": null,
      "outputs": []
    },
    {
      "cell_type": "code",
      "source": [
        "class NaiveSequential:\n",
        "  def __init__(self, layers):\n",
        "    self.layers = layers\n",
        "\n",
        "  def __call__(self, inputs):\n",
        "    x = inputs\n",
        "    for layer in self.layers: # 층을 순서대로 호출\n",
        "      x = layer(x)\n",
        "    return x\n",
        "\n",
        "  @property\n",
        "  def weights(self): # 가중치를 return 해줌\n",
        "    weights = []\n",
        "    for layer in self.layers:\n",
        "      weights += layer.weights\n",
        "    return weights"
      ],
      "metadata": {
        "id": "D6EDahjY0mGF"
      },
      "execution_count": null,
      "outputs": []
    },
    {
      "cell_type": "code",
      "source": [
        "model = NaiveSequential([ # NaiveSequential 클래스를 이용하여 유사 모델 생성\n",
        "    NaiveDense(input_size=28 * 28, output_size=512, activation=tf.nn.relu),\n",
        "    NaiveDense(input_size=512, output_size=10, activation=tf.nn.softmax)\n",
        "])\n",
        "\n",
        "assert len(model.weights) == 4"
      ],
      "metadata": {
        "id": "YQU_H4Ol1w6O"
      },
      "execution_count": null,
      "outputs": []
    },
    {
      "cell_type": "markdown",
      "source": [
        "#####**배치 제너레이터**"
      ],
      "metadata": {
        "id": "0L6LFqKy48wT"
      }
    },
    {
      "cell_type": "code",
      "source": [
        "import math\n",
        "\n",
        "class BatchGenerator:\n",
        "  def __init__(self, images, labels, batch_size=128):\n",
        "    assert len(images) == len(labels)\n",
        "    self.index = 0\n",
        "    self.images = images\n",
        "    self.labels = labels\n",
        "    self.batch_size = batch_size\n",
        "    self.num_batches = math.ceil(len(images) / batch_size)\n",
        "\n",
        "  def next(self):\n",
        "    images = self.images[self.index : self.index + self.batch_size]\n",
        "    labels = self.labels[self.index : self.index + self.batch_size]\n",
        "    self.index += self.batch_size\n",
        "    return images, labels"
      ],
      "metadata": {
        "id": "mks3dy6P2U6U"
      },
      "execution_count": null,
      "outputs": []
    },
    {
      "cell_type": "markdown",
      "source": [
        "#####**훈련 스텝 실행하기**"
      ],
      "metadata": {
        "id": "no56Sxqc7EqH"
      }
    },
    {
      "cell_type": "code",
      "source": [
        "def one_training_step(model, images_batch, labels_batch):\n",
        "    with tf.GradientTape() as tape: # GradientTape 블록 내에서 정방향 패스를 통해 모델의 예측 계산\n",
        "      predictions = model(images_batch)\n",
        "      per_sample_losses = tf.keras.losses.sparse_categorical_crossentropy(\n",
        "          labels_batch, predictions)\n",
        "      average_loss = tf.reduce_mean(per_sample_losses)\n",
        "    gradients = tape.gradient(average_loss, model.weights) # model.weights에 대해 average_loss의 그레이디언트를 계산\n",
        "    update_weights(gradients, model.weights) # 그레이디언트를 통한 가중치 업데이트\n",
        "    return average_loss\n",
        "\n",
        "learning_rate = 1e-3\n",
        "\n",
        "def update_weights(gradients, weights):\n",
        "  for g, w in zip(gradients, weights):\n",
        "    w.assign_sub(g * learning_rate) # 각 가중치에서 gradients * learning_rate를 빼주어 가중치를 업데이트"
      ],
      "metadata": {
        "id": "HeQiqLHW46uG"
      },
      "execution_count": null,
      "outputs": []
    },
    {
      "cell_type": "code",
      "source": [
        "from tensorflow.keras import optimizers\n",
        "\n",
        "# (윗 블럭의 learning_rate ~ update_weights 정의는 아래 코드와 같음)\n",
        "\n",
        "optimizer = optimizers.SGD(learning_rate = 1e-3)\n",
        "\n",
        "def update_weights(gradients, weights): # 윗 블럭처럼 가중치 업데이트는 수동으로 구현하지 않고 지금처럼 optimizer를 이용해 자동으로 함\n",
        "  optimizer.apply_gradients(zip(gradients, weights))"
      ],
      "metadata": {
        "id": "T5IKM71I7EKj"
      },
      "execution_count": null,
      "outputs": []
    },
    {
      "cell_type": "markdown",
      "source": [
        "#####**전체 훈련 루프**"
      ],
      "metadata": {
        "id": "rBtd0c7Y7tR3"
      }
    },
    {
      "cell_type": "code",
      "source": [
        "def fit(model, images, labels, epochs, batch_size=120):\n",
        "  for epoch_counter in range(epochs): # 각 에포크를 반복함\n",
        "    print(f\"에포크 {epoch_counter}\")\n",
        "    batch_generator = BatchGenerator(images, labels)\n",
        "    for batch_counter in range(batch_generator.num_batches): # 각 에포크마다 훈련 데이터의 배치에 대한 훈련 스텝 반복\n",
        "      images_batch, labels_batch = batch_generator.next()\n",
        "      loss = one_training_step(model, images_batch, labels_batch)\n",
        "      if batch_counter % 100 == 0:\n",
        "        print(f\"{batch_counter}번째 배치 손실: {loss:.2f}\")"
      ],
      "metadata": {
        "id": "gIb5z3Kb7oxi"
      },
      "execution_count": null,
      "outputs": []
    },
    {
      "cell_type": "code",
      "source": [
        "from tensorflow.keras.datasets import mnist\n",
        "(train_images, train_labels), (test_images, test_labels) = mnist.load_data()\n",
        "\n",
        "train_images = train_images.reshape((60000, 28 * 28))\n",
        "train_images = train_images.astype(\"float32\") / 255\n",
        "test_images = test_images.reshape((10000, 28 * 28))\n",
        "test_images = test_images.astype(\"float32\") / 255\n",
        "\n",
        "fit(model, train_images, train_labels, epochs=10, batch_size=128) # 위에서 쭉 정의한 함수들을 이용해 훈련 진행"
      ],
      "metadata": {
        "colab": {
          "base_uri": "https://localhost:8080/"
        },
        "id": "rZTxLWot8b4h",
        "outputId": "452a2a9c-9d05-4fa3-c544-ddfdb83d5394"
      },
      "execution_count": null,
      "outputs": [
        {
          "output_type": "stream",
          "name": "stdout",
          "text": [
            "에포크 0\n",
            "0번째 배치 손실: 4.97\n",
            "100번째 배치 손실: 2.21\n",
            "200번째 배치 손실: 2.18\n",
            "300번째 배치 손실: 2.07\n",
            "400번째 배치 손실: 2.21\n",
            "에포크 1\n",
            "0번째 배치 손실: 1.91\n",
            "100번째 배치 손실: 1.86\n",
            "200번째 배치 손실: 1.81\n",
            "300번째 배치 손실: 1.71\n",
            "400번째 배치 손실: 1.83\n",
            "에포크 2\n",
            "0번째 배치 손실: 1.59\n",
            "100번째 배치 손실: 1.56\n",
            "200번째 배치 손실: 1.48\n",
            "300번째 배치 손실: 1.41\n",
            "400번째 배치 손실: 1.51\n",
            "에포크 3\n",
            "0번째 배치 손실: 1.33\n",
            "100번째 배치 손실: 1.33\n",
            "200번째 배치 손실: 1.22\n",
            "300번째 배치 손실: 1.20\n",
            "400번째 배치 손실: 1.28\n",
            "에포크 4\n",
            "0번째 배치 손실: 1.14\n",
            "100번째 배치 손실: 1.15\n",
            "200번째 배치 손실: 1.02\n",
            "300번째 배치 손실: 1.04\n",
            "400번째 배치 손실: 1.11\n",
            "에포크 5\n",
            "0번째 배치 손실: 0.99\n",
            "100번째 배치 손실: 1.01\n",
            "200번째 배치 손실: 0.89\n",
            "300번째 배치 손실: 0.92\n",
            "400번째 배치 손실: 0.98\n",
            "에포크 6\n",
            "0번째 배치 손실: 0.88\n",
            "100번째 배치 손실: 0.91\n",
            "200번째 배치 손실: 0.79\n",
            "300번째 배치 손실: 0.83\n",
            "400번째 배치 손실: 0.90\n",
            "에포크 7\n",
            "0번째 배치 손실: 0.80\n",
            "100번째 배치 손실: 0.83\n",
            "200번째 배치 손실: 0.71\n",
            "300번째 배치 손실: 0.77\n",
            "400번째 배치 손실: 0.83\n",
            "에포크 8\n",
            "0번째 배치 손실: 0.73\n",
            "100번째 배치 손실: 0.76\n",
            "200번째 배치 손실: 0.65\n",
            "300번째 배치 손실: 0.71\n",
            "400번째 배치 손실: 0.78\n",
            "에포크 9\n",
            "0번째 배치 손실: 0.68\n",
            "100번째 배치 손실: 0.71\n",
            "200번째 배치 손실: 0.60\n",
            "300번째 배치 손실: 0.67\n",
            "400번째 배치 손실: 0.74\n"
          ]
        }
      ]
    },
    {
      "cell_type": "markdown",
      "source": [
        "#####**모델 평가하기**"
      ],
      "metadata": {
        "id": "CARQHhKA9ZIQ"
      }
    },
    {
      "cell_type": "code",
      "source": [
        "import numpy as np\n",
        "\n",
        "predictions = model(test_images)\n",
        "predictions = predictions.numpy()\n",
        "predicted_labels = np.argmax(predictions, axis=1)\n",
        "matches = predicted_labels == test_labels\n",
        "print(f\"정확도: {matches.mean(): .2f}\")"
      ],
      "metadata": {
        "colab": {
          "base_uri": "https://localhost:8080/"
        },
        "id": "BEJ0vX5E853O",
        "outputId": "9aaf54e0-b1cc-4afe-8fb7-da78745c06e4"
      },
      "execution_count": null,
      "outputs": [
        {
          "output_type": "stream",
          "name": "stdout",
          "text": [
            "정확도:  0.82\n"
          ]
        }
      ]
    }
  ]
}