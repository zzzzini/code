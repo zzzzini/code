{
  "cells": [
    {
      "cell_type": "markdown",
      "source": [
        "#**신경망의 수학적 구성 요소**"
      ],
      "metadata": {
        "id": "oq7bLlykfKoa"
      }
    },
    {
      "cell_type": "markdown",
      "source": [
        "###신경망과의 첫 만남"
      ],
      "metadata": {
        "id": "nM-aK2MEoOer"
      }
    },
    {
      "cell_type": "markdown",
      "source": [
        "**케라스에서 MNIST 데이터셋 적재하기**"
      ],
      "metadata": {
        "id": "lTNSfF3Vh4dC"
      }
    },
    {
      "cell_type": "code",
      "source": [
        "from tensorflow.keras.datasets import mnist\n",
        "(train_images, train_labels), (test_images, test_labels) = mnist.load_data()\n",
        "#mnist.load.data() : 훈련 이미지와 정답으로 구성된 훈련 세트와, 테스트 이미지와 정답으로 구성된 테스트 세트를 포함"
      ],
      "metadata": {
        "id": "47L89uDWfWWa"
      },
      "execution_count": 6,
      "outputs": []
    },
    {
      "cell_type": "code",
      "source": [
        "train_images.shape #train_images의 형태 (28x28 사이즈가 6만개)"
      ],
      "metadata": {
        "id": "YYW7goy8fhEM",
        "outputId": "1e05ffd0-50d8-4d11-f793-431979b4364e",
        "colab": {
          "base_uri": "https://localhost:8080/"
        }
      },
      "execution_count": 7,
      "outputs": [
        {
          "output_type": "execute_result",
          "data": {
            "text/plain": [
              "(60000, 28, 28)"
            ]
          },
          "metadata": {},
          "execution_count": 7
        }
      ]
    },
    {
      "cell_type": "code",
      "source": [
        "len(train_labels) "
      ],
      "metadata": {
        "id": "_fhKTo0jfi46",
        "outputId": "ad8f97dc-2b62-4152-aeee-be84aa3bde70",
        "colab": {
          "base_uri": "https://localhost:8080/"
        }
      },
      "execution_count": 8,
      "outputs": [
        {
          "output_type": "execute_result",
          "data": {
            "text/plain": [
              "60000"
            ]
          },
          "metadata": {},
          "execution_count": 8
        }
      ]
    },
    {
      "cell_type": "code",
      "source": [
        "train_labels"
      ],
      "metadata": {
        "id": "3qG2Zgvgfrd1",
        "colab": {
          "base_uri": "https://localhost:8080/"
        },
        "outputId": "4f8e09cd-4a08-4ba9-e373-1d988623bc3b"
      },
      "execution_count": 9,
      "outputs": [
        {
          "output_type": "execute_result",
          "data": {
            "text/plain": [
              "array([5, 0, 4, ..., 5, 6, 8], dtype=uint8)"
            ]
          },
          "metadata": {},
          "execution_count": 9
        }
      ]
    },
    {
      "cell_type": "code",
      "source": [
        "test_images.shape #test_images의 형태 (28x28 사이즈가 1만개)"
      ],
      "metadata": {
        "colab": {
          "base_uri": "https://localhost:8080/"
        },
        "id": "SCi6G-7hgPXi",
        "outputId": "61305f39-009e-41fc-a07a-b5f9d6f9e342"
      },
      "execution_count": 10,
      "outputs": [
        {
          "output_type": "execute_result",
          "data": {
            "text/plain": [
              "(10000, 28, 28)"
            ]
          },
          "metadata": {},
          "execution_count": 10
        }
      ]
    },
    {
      "cell_type": "code",
      "source": [
        "len(test_labels)"
      ],
      "metadata": {
        "colab": {
          "base_uri": "https://localhost:8080/"
        },
        "id": "OuJtGGKPhv_u",
        "outputId": "fa193e94-39fb-4951-8bb8-80cdea03378d"
      },
      "execution_count": 11,
      "outputs": [
        {
          "output_type": "execute_result",
          "data": {
            "text/plain": [
              "10000"
            ]
          },
          "metadata": {},
          "execution_count": 11
        }
      ]
    },
    {
      "cell_type": "code",
      "source": [
        "test_labels"
      ],
      "metadata": {
        "colab": {
          "base_uri": "https://localhost:8080/"
        },
        "id": "bSv4en22iR7C",
        "outputId": "2a35a38b-7928-4c39-91fd-1a926c6dd424"
      },
      "execution_count": 12,
      "outputs": [
        {
          "output_type": "execute_result",
          "data": {
            "text/plain": [
              "array([7, 2, 1, ..., 4, 5, 6], dtype=uint8)"
            ]
          },
          "metadata": {},
          "execution_count": 12
        }
      ]
    },
    {
      "cell_type": "markdown",
      "source": [
        "**신경망 구조**"
      ],
      "metadata": {
        "id": "Paf1EUDhiYfx"
      }
    },
    {
      "cell_type": "code",
      "source": [
        "from tensorflow import keras\n",
        "from tensorflow.keras import layers\n",
        "model = keras.Sequential([\n",
        "    layers.Dense(512, activation=\"relu\"), #hiddenlayers의 개수가 512개, 활성함수 relu\n",
        "    layers.Dense(10, activation=\"softmax\") #출력노드의 개수가 10개, 활성함수 softmax\n",
        "])"
      ],
      "metadata": {
        "id": "S9SdoRYGiXbT"
      },
      "execution_count": 14,
      "outputs": []
    },
    {
      "cell_type": "markdown",
      "source": [
        "**컴파일 단계**"
      ],
      "metadata": {
        "id": "JJd4GNJYnTjF"
      }
    },
    {
      "cell_type": "code",
      "source": [
        "model.compile(optimizer=\"rmsprop\", #학습과정에서 파라미터를 최적화해줌\n",
        "              loss=\"sparse_categorical_crossentropy\", #정답과 모델이 학습한 값의 차이\n",
        "              metrics=[\"accuracy\"]) #혼동행렬(Confusion metrics)에서의 정확도 : TP+TN/TP+FN+TN+FP"
      ],
      "metadata": {
        "id": "Zs12db4himbS"
      },
      "execution_count": 15,
      "outputs": []
    },
    {
      "cell_type": "markdown",
      "source": [
        "**이미지 데이터 준비하기**"
      ],
      "metadata": {
        "id": "H7GFangpmuSO"
      }
    },
    {
      "cell_type": "code",
      "source": [
        "train_images = train_images.reshape((60000, 28 * 28))\n",
        "train_images = train_images.astype(\"float32\") / 255 #0에서 1사이로 바꿔주기 위하여 255로 나누었음\n",
        "test_images = test_images.reshape((10000, 28 * 28))\n",
        "test_images = test_images.astype(\"float32\") / 255 #0에서 1사이로 바꿔주기 위하여 255로 나누었음"
      ],
      "metadata": {
        "id": "OxLudeoamvxL"
      },
      "execution_count": 16,
      "outputs": []
    },
    {
      "cell_type": "markdown",
      "source": [
        "**모델 훈련하기**"
      ],
      "metadata": {
        "id": "ndNd1MZmnWZX"
      }
    },
    {
      "cell_type": "code",
      "source": [
        "model.fit(train_images, train_labels, epochs=5, batch_size=128)\n",
        "#model.fit : 모델을 학습시키기 위한 method\n",
        "#batch_size : 한 번에 처리할 샘플의 양\n",
        "#epochs : 전체 트레이닝 데이터를 전부 사용하여 학습을 반복하는 횟수"
      ],
      "metadata": {
        "colab": {
          "base_uri": "https://localhost:8080/"
        },
        "id": "lKerpKUnnDkz",
        "outputId": "c45a34df-1357-4ae8-bef5-c2dff2d63abb"
      },
      "execution_count": 18,
      "outputs": [
        {
          "output_type": "stream",
          "name": "stdout",
          "text": [
            "Epoch 1/5\n",
            "469/469 [==============================] - 5s 11ms/step - loss: 0.0286 - accuracy: 0.9917\n",
            "Epoch 2/5\n",
            "469/469 [==============================] - 5s 11ms/step - loss: 0.0218 - accuracy: 0.9935\n",
            "Epoch 3/5\n",
            "469/469 [==============================] - 6s 13ms/step - loss: 0.0172 - accuracy: 0.9953\n",
            "Epoch 4/5\n",
            "469/469 [==============================] - 5s 10ms/step - loss: 0.0120 - accuracy: 0.9969\n",
            "Epoch 5/5\n",
            "469/469 [==============================] - 6s 13ms/step - loss: 0.0094 - accuracy: 0.9978\n"
          ]
        },
        {
          "output_type": "execute_result",
          "data": {
            "text/plain": [
              "<keras.callbacks.History at 0x7f2017f4c220>"
            ]
          },
          "metadata": {},
          "execution_count": 18
        }
      ]
    },
    {
      "cell_type": "markdown",
      "source": [
        "**모델을 사용하여 예측 만들기**"
      ],
      "metadata": {
        "id": "TWmGv2don-rO"
      }
    },
    {
      "cell_type": "code",
      "source": [
        "test_digits = test_images[0:10]\n",
        "predictions = model.predict(test_digits) #test_digits에 대한 예측 생성\n",
        "predictions[2]"
      ],
      "metadata": {
        "colab": {
          "base_uri": "https://localhost:8080/"
        },
        "id": "IBuMv7uUne6Y",
        "outputId": "c2b68d6b-1fe0-41fa-d71c-6d6489a01457"
      },
      "execution_count": 20,
      "outputs": [
        {
          "output_type": "stream",
          "name": "stdout",
          "text": [
            "1/1 [==============================] - 0s 121ms/step\n"
          ]
        },
        {
          "output_type": "execute_result",
          "data": {
            "text/plain": [
              "array([1.4350529e-09, 9.9982667e-01, 5.1462146e-05, 1.2500209e-07,\n",
              "       1.5633863e-05, 6.8036815e-07, 1.0900606e-06, 4.4268683e-05,\n",
              "       6.0006045e-05, 1.4814667e-07], dtype=float32)"
            ]
          },
          "metadata": {},
          "execution_count": 20
        }
      ]
    },
    {
      "cell_type": "code",
      "source": [
        "predictions[2].argmax()"
      ],
      "metadata": {
        "colab": {
          "base_uri": "https://localhost:8080/"
        },
        "id": "AfjrEJw9ovdu",
        "outputId": "f28cf197-e5c4-4945-8083-80574f7fff27"
      },
      "execution_count": 22,
      "outputs": [
        {
          "output_type": "execute_result",
          "data": {
            "text/plain": [
              "1"
            ]
          },
          "metadata": {},
          "execution_count": 22
        }
      ]
    },
    {
      "cell_type": "code",
      "source": [
        "predictions[2][7]"
      ],
      "metadata": {
        "colab": {
          "base_uri": "https://localhost:8080/"
        },
        "id": "jJZqFPtvoxnG",
        "outputId": "40e568c4-4050-4528-f3eb-824919b7ee9f"
      },
      "execution_count": 23,
      "outputs": [
        {
          "output_type": "execute_result",
          "data": {
            "text/plain": [
              "4.4268683e-05"
            ]
          },
          "metadata": {},
          "execution_count": 23
        }
      ]
    },
    {
      "cell_type": "markdown",
      "source": [
        "**새로운 데이터에서 모델 평가하기**"
      ],
      "metadata": {
        "id": "KXPYZNm3ogYx"
      }
    },
    {
      "cell_type": "code",
      "source": [
        "test_loss, test_acc = model.evaluate(test_images, test_labels)\n",
        "print(f\"테스트 정확도: {test_acc}\")\n",
        "# 테스트가 반복될수록 정확도는 올라간다"
      ],
      "metadata": {
        "colab": {
          "base_uri": "https://localhost:8080/"
        },
        "id": "cVxSN7T3n9kg",
        "outputId": "690bde13-95f1-44fa-dc0e-dfd3200dc322"
      },
      "execution_count": 21,
      "outputs": [
        {
          "output_type": "stream",
          "name": "stdout",
          "text": [
            "313/313 [==============================] - 2s 5ms/step - loss: 0.0627 - accuracy: 0.9819\n",
            "테스트 정확도: 0.9818999767303467\n"
          ]
        }
      ]
    },
    {
      "cell_type": "markdown",
      "source": [
        "###신경망을 위한 데이터 표현"
      ],
      "metadata": {
        "id": "I5Hi4-NNpWYx"
      }
    },
    {
      "cell_type": "markdown",
      "source": [
        "**스칼라 (랭크-0 텐서)**"
      ],
      "metadata": {
        "id": "JlVq0IClpaMu"
      }
    },
    {
      "cell_type": "code",
      "source": [
        "import numpy as np\n",
        "x = np.array(12)\n",
        "x"
      ],
      "metadata": {
        "colab": {
          "base_uri": "https://localhost:8080/"
        },
        "id": "ZsE3DvORosEe",
        "outputId": "40d0e329-35a6-4d30-9453-18aa86f48473"
      },
      "execution_count": 25,
      "outputs": [
        {
          "output_type": "execute_result",
          "data": {
            "text/plain": [
              "array(12)"
            ]
          },
          "metadata": {},
          "execution_count": 25
        }
      ]
    },
    {
      "cell_type": "code",
      "source": [
        "x.ndim"
      ],
      "metadata": {
        "colab": {
          "base_uri": "https://localhost:8080/"
        },
        "id": "pgMWejTtph3B",
        "outputId": "c96523cf-1e6e-42e6-a913-effab575e353"
      },
      "execution_count": 26,
      "outputs": [
        {
          "output_type": "execute_result",
          "data": {
            "text/plain": [
              "0"
            ]
          },
          "metadata": {},
          "execution_count": 26
        }
      ]
    },
    {
      "cell_type": "markdown",
      "source": [
        "**벡터 (랭크-1 텐서)**"
      ],
      "metadata": {
        "id": "UThpcGTUprZx"
      }
    },
    {
      "cell_type": "code",
      "source": [
        "x = np.array([12, 3, 6, 14, 7])\n",
        "x"
      ],
      "metadata": {
        "colab": {
          "base_uri": "https://localhost:8080/"
        },
        "id": "By9oGBcApl4T",
        "outputId": "562d7244-9c44-4e6c-bbf6-289ad2895e5d"
      },
      "execution_count": 29,
      "outputs": [
        {
          "output_type": "execute_result",
          "data": {
            "text/plain": [
              "array([12,  3,  6, 14,  7])"
            ]
          },
          "metadata": {},
          "execution_count": 29
        }
      ]
    },
    {
      "cell_type": "code",
      "source": [
        "x.ndim"
      ],
      "metadata": {
        "colab": {
          "base_uri": "https://localhost:8080/"
        },
        "id": "igpgKHjbqFVp",
        "outputId": "66f84221-d677-4550-9515-7f63607ab824"
      },
      "execution_count": 30,
      "outputs": [
        {
          "output_type": "execute_result",
          "data": {
            "text/plain": [
              "1"
            ]
          },
          "metadata": {},
          "execution_count": 30
        }
      ]
    },
    {
      "cell_type": "markdown",
      "source": [
        "**행렬 (랭크-2 텐서)**"
      ],
      "metadata": {
        "id": "q_jHrrcCpwob"
      }
    },
    {
      "cell_type": "code",
      "source": [
        "x = np.array([[5, 78, 2, 34, 0],\n",
        "              [6, 79, 3, 35, 1],\n",
        "              [7, 80, 4, 36, 2]])\n",
        "x.ndim"
      ],
      "metadata": {
        "colab": {
          "base_uri": "https://localhost:8080/"
        },
        "id": "sxKAq0VRppz3",
        "outputId": "2b2bf620-5247-41e1-9ff0-12f751688884"
      },
      "execution_count": 28,
      "outputs": [
        {
          "output_type": "execute_result",
          "data": {
            "text/plain": [
              "2"
            ]
          },
          "metadata": {},
          "execution_count": 28
        }
      ]
    },
    {
      "cell_type": "markdown",
      "source": [
        "**랭크-3 텐서와 더 높은 랭크의 텐서**"
      ],
      "metadata": {
        "id": "xrXkQ40yqMmP"
      }
    },
    {
      "cell_type": "code",
      "source": [
        "x = np.array([[[5, 78, 2, 34, 0],\n",
        "               [6, 79, 3, 35, 1],\n",
        "               [7, 80, 4, 36, 2]],\n",
        "              [[5, 78, 2, 34, 0],\n",
        "               [6, 79, 3, 35, 1],\n",
        "               [7, 80, 4, 36, 2]],\n",
        "              [[5, 78, 2, 34, 0],\n",
        "               [6, 79, 3, 35, 1],\n",
        "               [7, 80, 4, 36, 2]]])\n",
        "x.ndim"
      ],
      "metadata": {
        "colab": {
          "base_uri": "https://localhost:8080/"
        },
        "id": "7IziuY4sp8Ry",
        "outputId": "ffa1ebfc-6cc0-4e51-d40f-8d52d1a71881"
      },
      "execution_count": 32,
      "outputs": [
        {
          "output_type": "execute_result",
          "data": {
            "text/plain": [
              "3"
            ]
          },
          "metadata": {},
          "execution_count": 32
        }
      ]
    },
    {
      "cell_type": "markdown",
      "source": [
        "**핵심 속성**"
      ],
      "metadata": {
        "id": "OSEbULu6q5AJ"
      }
    },
    {
      "cell_type": "code",
      "source": [
        "from tensorflow.keras.datasets import mnist\n",
        "(train_images, train_labels), (test_images, test_labels) = mnist.load_data()"
      ],
      "metadata": {
        "id": "RMaBR0xiqLri"
      },
      "execution_count": 33,
      "outputs": []
    },
    {
      "cell_type": "code",
      "source": [
        "train_images.ndim"
      ],
      "metadata": {
        "colab": {
          "base_uri": "https://localhost:8080/"
        },
        "id": "UrrqMuOHq7NM",
        "outputId": "38c9c466-a126-406f-f0a5-06f0a0a7ab28"
      },
      "execution_count": 34,
      "outputs": [
        {
          "output_type": "execute_result",
          "data": {
            "text/plain": [
              "3"
            ]
          },
          "metadata": {},
          "execution_count": 34
        }
      ]
    },
    {
      "cell_type": "code",
      "source": [
        "train_images.shape"
      ],
      "metadata": {
        "colab": {
          "base_uri": "https://localhost:8080/"
        },
        "id": "kpDbYf3Qq841",
        "outputId": "245cb650-5ec0-4662-f23a-0402ced7258a"
      },
      "execution_count": 35,
      "outputs": [
        {
          "output_type": "execute_result",
          "data": {
            "text/plain": [
              "(60000, 28, 28)"
            ]
          },
          "metadata": {},
          "execution_count": 35
        }
      ]
    },
    {
      "cell_type": "code",
      "source": [
        "train_images.dtype #부호 없는 8비트 정수"
      ],
      "metadata": {
        "colab": {
          "base_uri": "https://localhost:8080/"
        },
        "id": "JSfARL0Vq_D0",
        "outputId": "c97e5a45-df39-48dd-aced-141f38a4cf41"
      },
      "execution_count": 37,
      "outputs": [
        {
          "output_type": "execute_result",
          "data": {
            "text/plain": [
              "dtype('uint8')"
            ]
          },
          "metadata": {},
          "execution_count": 37
        }
      ]
    },
    {
      "cell_type": "markdown",
      "source": [
        "**다섯번째 이미지 출력하기**"
      ],
      "metadata": {
        "id": "HjTn2cgrrk3K"
      }
    },
    {
      "cell_type": "code",
      "source": [
        "import matplotlib.pyplot as plt\n",
        "digit = train_images[4]\n",
        "plt.imshow(digit, cmap=plt.cm.binary)\n",
        "plt.show()"
      ],
      "metadata": {
        "colab": {
          "base_uri": "https://localhost:8080/",
          "height": 265
        },
        "id": "da2KWMsOrBB8",
        "outputId": "cee12df0-b961-42bf-d72d-5e2618ec456b"
      },
      "execution_count": 38,
      "outputs": [
        {
          "output_type": "display_data",
          "data": {
            "text/plain": [
              "<Figure size 432x288 with 1 Axes>"
            ],
            "image/png": "[encoded data removed]"
          },
          "metadata": {
            "needs_background": "light"
          }
        }
      ]
    },
    {
      "cell_type": "code",
      "source": [
        "train_labels[4]"
      ],
      "metadata": {
        "colab": {
          "base_uri": "https://localhost:8080/"
        },
        "id": "7MegVX5crruQ",
        "outputId": "46560b32-66e5-465d-88e6-0d4cb1df8c11"
      },
      "execution_count": 39,
      "outputs": [
        {
          "output_type": "execute_result",
          "data": {
            "text/plain": [
              "9"
            ]
          },
          "metadata": {},
          "execution_count": 39
        }
      ]
    },
    {
      "cell_type": "markdown",
      "source": [
        "**넘파이로 텐서 조작하기**"
      ],
      "metadata": {
        "id": "GC7Qu-eysJUr"
      }
    },
    {
      "cell_type": "code",
      "source": [
        "my_slice = train_images[10:100] #인덱스 10에서 99까지 slicing\n",
        "my_slice.shape"
      ],
      "metadata": {
        "colab": {
          "base_uri": "https://localhost:8080/"
        },
        "id": "UNHrw27AsDw0",
        "outputId": "22299219-8af2-451c-c20b-e9bedb95b69e"
      },
      "execution_count": 43,
      "outputs": [
        {
          "output_type": "execute_result",
          "data": {
            "text/plain": [
              "(90, 28, 28)"
            ]
          },
          "metadata": {},
          "execution_count": 43
        }
      ]
    },
    {
      "cell_type": "code",
      "source": [
        "my_slice = train_images[10:100, :, :] #인덱스 10부터 99까지 모두 slicing\n",
        "my_slice.shape"
      ],
      "metadata": {
        "colab": {
          "base_uri": "https://localhost:8080/"
        },
        "id": "Bi3Tm-VmsHD8",
        "outputId": "18d695e6-17c9-4d54-c3d3-54618a6f14d3"
      },
      "execution_count": 44,
      "outputs": [
        {
          "output_type": "execute_result",
          "data": {
            "text/plain": [
              "(90, 28, 28)"
            ]
          },
          "metadata": {},
          "execution_count": 44
        }
      ]
    },
    {
      "cell_type": "code",
      "source": [
        "my_slice = train_images[10:100, 0:28, 0:28] #인덱스 10에서 99까지, 각 이미지를 0에서 27행까지의 픽셀을 slicing\n",
        "my_slice.shape"
      ],
      "metadata": {
        "colab": {
          "base_uri": "https://localhost:8080/"
        },
        "id": "ZIwKnWUVsUM4",
        "outputId": "60c89157-4ade-4d8f-d8fa-9397e6bfb3ed"
      },
      "execution_count": 45,
      "outputs": [
        {
          "output_type": "execute_result",
          "data": {
            "text/plain": [
              "(90, 28, 28)"
            ]
          },
          "metadata": {},
          "execution_count": 45
        }
      ]
    },
    {
      "cell_type": "code",
      "source": [
        "my_slice = train_images[:, 14:, 14:] #모든 이미지에 대해 인덱스 14부터 마지막까지의 픽셀을 slicing\n",
        "my_slice.shape"
      ],
      "metadata": {
        "colab": {
          "base_uri": "https://localhost:8080/"
        },
        "id": "wKbYMeYjsZW1",
        "outputId": "ace24cdf-e0af-42c0-d4cb-e645547a09fd"
      },
      "execution_count": 48,
      "outputs": [
        {
          "output_type": "execute_result",
          "data": {
            "text/plain": [
              "(60000, 14, 14)"
            ]
          },
          "metadata": {},
          "execution_count": 48
        }
      ]
    },
    {
      "cell_type": "code",
      "source": [
        "my_slice = train_images[:, 7:-7, 7:-7] #모든 이미지에 대해 인덱스 7부터 뒤에서 7번째 인덱스까지의 픽셀을 slicing\n",
        "my_slice.shape"
      ],
      "metadata": {
        "colab": {
          "base_uri": "https://localhost:8080/"
        },
        "id": "wOmmdqUVscNY",
        "outputId": "24c35ac1-276d-4d6d-a40c-39fb1cb89638"
      },
      "execution_count": 50,
      "outputs": [
        {
          "output_type": "execute_result",
          "data": {
            "text/plain": [
              "(60000, 14, 14)"
            ]
          },
          "metadata": {},
          "execution_count": 50
        }
      ]
    },
    {
      "cell_type": "markdown",
      "source": [
        "**배치 데이터**"
      ],
      "metadata": {
        "id": "cNzrLxfxt3ES"
      }
    },
    {
      "cell_type": "code",
      "source": [
        "batch = train_images[:128] #첫번째 배치"
      ],
      "metadata": {
        "id": "KYSv0JiVtO4a"
      },
      "execution_count": 52,
      "outputs": []
    },
    {
      "cell_type": "code",
      "source": [
        "batch = train_images[128:256] #두번째 배치"
      ],
      "metadata": {
        "id": "elrbSX4at2L2"
      },
      "execution_count": 53,
      "outputs": []
    },
    {
      "cell_type": "code",
      "source": [
        "n = 3\n",
        "batch = train_images[128 * n:128 * (n+1)] #n번째 배치"
      ],
      "metadata": {
        "id": "CZNwLmG8uARi"
      },
      "execution_count": 54,
      "outputs": []
    }
  ],
  "metadata": {
    "colab": {
      "toc_visible": true,
      "provenance": []
    },
    "kernelspec": {
      "display_name": "Python 3",
      "name": "python3"
    }
  },
  "nbformat": 4,
  "nbformat_minor": 0
}